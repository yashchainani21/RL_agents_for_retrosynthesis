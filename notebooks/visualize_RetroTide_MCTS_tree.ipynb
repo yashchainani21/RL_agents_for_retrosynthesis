{
 "cells": [
  {
   "cell_type": "code",
   "id": "initial_id",
   "metadata": {
    "collapsed": true,
    "ExecuteTime": {
     "end_time": "2025-03-12T18:15:44.187082Z",
     "start_time": "2025-03-12T18:15:31.489962Z"
    }
   },
   "source": [
    "from bokeh.transform import linear_cmap\n",
    "from bokeh.palettes import Viridis256\n",
    "import networkx as nx\n",
    "from bokeh.plotting import figure, show, output_file\n",
    "from bokeh.models import GraphRenderer, StaticLayoutProvider, Circle, MultiLine, HoverTool, LinearColorMapper, ColorBar\n",
    "from bokeh.io import output_notebook\n",
    "output_notebook()\n",
    "\n",
    "from rdkit import Chem\n",
    "from RetroTide_agent.node import Node\n",
    "from RetroTide_agent.mcts import MCTS"
   ],
   "outputs": [
    {
     "data": {
      "text/html": [
       "    <style>\n",
       "        .bk-notebook-logo {\n",
       "            display: block;\n",
       "            width: 20px;\n",
       "            height: 20px;\n",
       "            background-image: url(data:image/png;base64,iVBORw0KGgoAAAANSUhEUgAAABQAAAAUCAYAAACNiR0NAAAABHNCSVQICAgIfAhkiAAAAAlwSFlzAAALEgAACxIB0t1+/AAAABx0RVh0U29mdHdhcmUAQWRvYmUgRmlyZXdvcmtzIENTNui8sowAAAOkSURBVDiNjZRtaJVlGMd/1/08zzln5zjP1LWcU9N0NkN8m2CYjpgQYQXqSs0I84OLIC0hkEKoPtiH3gmKoiJDU7QpLgoLjLIQCpEsNJ1vqUOdO7ppbuec5+V+rj4ctwzd8IIbbi6u+8f1539dt3A78eXC7QizUF7gyV1fD1Yqg4JWz84yffhm0qkFqBogB9rM8tZdtwVsPUhWhGcFJngGeWrPzHm5oaMmkfEg1usvLFyc8jLRqDOMru7AyC8saQr7GG7f5fvDeH7Ej8CM66nIF+8yngt6HWaKh7k49Soy9nXurCi1o3qUbS3zWfrYeQDTB/Qj6kX6Ybhw4B+bOYoLKCC9H3Nu/leUTZ1JdRWkkn2ldcCamzrcf47KKXdAJllSlxAOkRgyHsGC/zRday5Qld9DyoM4/q/rUoy/CXh3jzOu3bHUVZeU+DEn8FInkPBFlu3+nW3Nw0mk6vCDiWg8CeJaxEwuHS3+z5RgY+YBR6V1Z1nxSOfoaPa4LASWxxdNp+VWTk7+4vzaou8v8PN+xo+KY2xsw6une2frhw05CTYOmQvsEhjhWjn0bmXPjpE1+kplmmkP3suftwTubK9Vq22qKmrBhpY4jvd5afdRA3wGjFAgcnTK2s4hY0/GPNIb0nErGMCRxWOOX64Z8RAC4oCXdklmEvcL8o0BfkNK4lUg9HTl+oPlQxdNo3Mg4Nv175e/1LDGzZen30MEjRUtmXSfiTVu1kK8W4txyV6BMKlbgk3lMwYCiusNy9fVfvvwMxv8Ynl6vxoByANLTWplvuj/nF9m2+PDtt1eiHPBr1oIfhCChQMBw6Aw0UulqTKZdfVvfG7VcfIqLG9bcldL/+pdWTLxLUy8Qq38heUIjh4XlzZxzQm19lLFlr8vdQ97rjZVOLf8nclzckbcD4wxXMidpX30sFd37Fv/GtwwhzhxGVAprjbg0gCAEeIgwCZyTV2Z1REEW8O4py0wsjeloKoMr6iCY6dP92H6Vw/oTyICIthibxjm/DfN9lVz8IqtqKYLUXfoKVMVQVVJOElGjrnnUt9T9wbgp8AyYKaGlqingHZU/uG2NTZSVqwHQTWkx9hxjkpWDaCg6Ckj5qebgBVbT3V3NNXMSiWSDdGV3hrtzla7J+duwPOToIg42ChPQOQjspnSlp1V+Gjdged7+8UN5CRAV7a5EdFNwCjEaBR27b3W890TE7g24NAP/mMDXRWrGoFPQI9ls/MWO2dWFAar/xcOIImbbpA3zgAAAABJRU5ErkJggg==);\n",
       "        }\n",
       "    </style>\n",
       "    <div>\n",
       "        <a href=\"https://bokeh.org\" target=\"_blank\" class=\"bk-notebook-logo\"></a>\n",
       "        <span id=\"e90a4251-f012-476e-aca8-0f3f2b706c85\">Loading BokehJS ...</span>\n",
       "    </div>\n"
      ]
     },
     "metadata": {},
     "output_type": "display_data"
    },
    {
     "data": {
      "application/javascript": "'use strict';\n(function(root) {\n  function now() {\n    return new Date();\n  }\n\n  const force = true;\n\n  if (typeof root._bokeh_onload_callbacks === \"undefined\" || force === true) {\n    root._bokeh_onload_callbacks = [];\n    root._bokeh_is_loading = undefined;\n  }\n\nconst JS_MIME_TYPE = 'application/javascript';\n  const HTML_MIME_TYPE = 'text/html';\n  const EXEC_MIME_TYPE = 'application/vnd.bokehjs_exec.v0+json';\n  const CLASS_NAME = 'output_bokeh rendered_html';\n\n  /**\n   * Render data to the DOM node\n   */\n  function render(props, node) {\n    const script = document.createElement(\"script\");\n    node.appendChild(script);\n  }\n\n  /**\n   * Handle when an output is cleared or removed\n   */\n  function handleClearOutput(event, handle) {\n    function drop(id) {\n      const view = Bokeh.index.get_by_id(id)\n      if (view != null) {\n        view.model.document.clear()\n        Bokeh.index.delete(view)\n      }\n    }\n\n    const cell = handle.cell;\n\n    const id = cell.output_area._bokeh_element_id;\n    const server_id = cell.output_area._bokeh_server_id;\n\n    // Clean up Bokeh references\n    if (id != null) {\n      drop(id)\n    }\n\n    if (server_id !== undefined) {\n      // Clean up Bokeh references\n      const cmd_clean = \"from bokeh.io.state import curstate; print(curstate().uuid_to_server['\" + server_id + \"'].get_sessions()[0].document.roots[0]._id)\";\n      cell.notebook.kernel.execute(cmd_clean, {\n        iopub: {\n          output: function(msg) {\n            const id = msg.content.text.trim()\n            drop(id)\n          }\n        }\n      });\n      // Destroy server and session\n      const cmd_destroy = \"import bokeh.io.notebook as ion; ion.destroy_server('\" + server_id + \"')\";\n      cell.notebook.kernel.execute(cmd_destroy);\n    }\n  }\n\n  /**\n   * Handle when a new output is added\n   */\n  function handleAddOutput(event, handle) {\n    const output_area = handle.output_area;\n    const output = handle.output;\n\n    // limit handleAddOutput to display_data with EXEC_MIME_TYPE content only\n    if ((output.output_type != \"display_data\") || (!Object.prototype.hasOwnProperty.call(output.data, EXEC_MIME_TYPE))) {\n      return\n    }\n\n    const toinsert = output_area.element.find(\".\" + CLASS_NAME.split(' ')[0]);\n\n    if (output.metadata[EXEC_MIME_TYPE][\"id\"] !== undefined) {\n      toinsert[toinsert.length - 1].firstChild.textContent = output.data[JS_MIME_TYPE];\n      // store reference to embed id on output_area\n      output_area._bokeh_element_id = output.metadata[EXEC_MIME_TYPE][\"id\"];\n    }\n    if (output.metadata[EXEC_MIME_TYPE][\"server_id\"] !== undefined) {\n      const bk_div = document.createElement(\"div\");\n      bk_div.innerHTML = output.data[HTML_MIME_TYPE];\n      const script_attrs = bk_div.children[0].attributes;\n      for (let i = 0; i < script_attrs.length; i++) {\n        toinsert[toinsert.length - 1].firstChild.setAttribute(script_attrs[i].name, script_attrs[i].value);\n        toinsert[toinsert.length - 1].firstChild.textContent = bk_div.children[0].textContent\n      }\n      // store reference to server id on output_area\n      output_area._bokeh_server_id = output.metadata[EXEC_MIME_TYPE][\"server_id\"];\n    }\n  }\n\n  function register_renderer(events, OutputArea) {\n\n    function append_mime(data, metadata, element) {\n      // create a DOM node to render to\n      const toinsert = this.create_output_subarea(\n        metadata,\n        CLASS_NAME,\n        EXEC_MIME_TYPE\n      );\n      this.keyboard_manager.register_events(toinsert);\n      // Render to node\n      const props = {data: data, metadata: metadata[EXEC_MIME_TYPE]};\n      render(props, toinsert[toinsert.length - 1]);\n      element.append(toinsert);\n      return toinsert\n    }\n\n    /* Handle when an output is cleared or removed */\n    events.on('clear_output.CodeCell', handleClearOutput);\n    events.on('delete.Cell', handleClearOutput);\n\n    /* Handle when a new output is added */\n    events.on('output_added.OutputArea', handleAddOutput);\n\n    /**\n     * Register the mime type and append_mime function with output_area\n     */\n    OutputArea.prototype.register_mime_type(EXEC_MIME_TYPE, append_mime, {\n      /* Is output safe? */\n      safe: true,\n      /* Index of renderer in `output_area.display_order` */\n      index: 0\n    });\n  }\n\n  // register the mime type if in Jupyter Notebook environment and previously unregistered\n  if (root.Jupyter !== undefined) {\n    const events = require('base/js/events');\n    const OutputArea = require('notebook/js/outputarea').OutputArea;\n\n    if (OutputArea.prototype.mime_types().indexOf(EXEC_MIME_TYPE) == -1) {\n      register_renderer(events, OutputArea);\n    }\n  }\n  if (typeof (root._bokeh_timeout) === \"undefined\" || force === true) {\n    root._bokeh_timeout = Date.now() + 5000;\n    root._bokeh_failed_load = false;\n  }\n\n  const NB_LOAD_WARNING = {'data': {'text/html':\n     \"<div style='background-color: #fdd'>\\n\"+\n     \"<p>\\n\"+\n     \"BokehJS does not appear to have successfully loaded. If loading BokehJS from CDN, this \\n\"+\n     \"may be due to a slow or bad network connection. Possible fixes:\\n\"+\n     \"</p>\\n\"+\n     \"<ul>\\n\"+\n     \"<li>re-rerun `output_notebook()` to attempt to load from CDN again, or</li>\\n\"+\n     \"<li>use INLINE resources instead, as so:</li>\\n\"+\n     \"</ul>\\n\"+\n     \"<code>\\n\"+\n     \"from bokeh.resources import INLINE\\n\"+\n     \"output_notebook(resources=INLINE)\\n\"+\n     \"</code>\\n\"+\n     \"</div>\"}};\n\n  function display_loaded(error = null) {\n    const el = document.getElementById(\"e90a4251-f012-476e-aca8-0f3f2b706c85\");\n    if (el != null) {\n      const html = (() => {\n        if (typeof root.Bokeh === \"undefined\") {\n          if (error == null) {\n            return \"BokehJS is loading ...\";\n          } else {\n            return \"BokehJS failed to load.\";\n          }\n        } else {\n          const prefix = `BokehJS ${root.Bokeh.version}`;\n          if (error == null) {\n            return `${prefix} successfully loaded.`;\n          } else {\n            return `${prefix} <b>encountered errors</b> while loading and may not function as expected.`;\n          }\n        }\n      })();\n      el.innerHTML = html;\n\n      if (error != null) {\n        const wrapper = document.createElement(\"div\");\n        wrapper.style.overflow = \"auto\";\n        wrapper.style.height = \"5em\";\n        wrapper.style.resize = \"vertical\";\n        const content = document.createElement(\"div\");\n        content.style.fontFamily = \"monospace\";\n        content.style.whiteSpace = \"pre-wrap\";\n        content.style.backgroundColor = \"rgb(255, 221, 221)\";\n        content.textContent = error.stack ?? error.toString();\n        wrapper.append(content);\n        el.append(wrapper);\n      }\n    } else if (Date.now() < root._bokeh_timeout) {\n      setTimeout(() => display_loaded(error), 100);\n    }\n  }\n\n  function run_callbacks() {\n    try {\n      root._bokeh_onload_callbacks.forEach(function(callback) {\n        if (callback != null)\n          callback();\n      });\n    } finally {\n      delete root._bokeh_onload_callbacks\n    }\n    console.debug(\"Bokeh: all callbacks have finished\");\n  }\n\n  function load_libs(css_urls, js_urls, callback) {\n    if (css_urls == null) css_urls = [];\n    if (js_urls == null) js_urls = [];\n\n    root._bokeh_onload_callbacks.push(callback);\n    if (root._bokeh_is_loading > 0) {\n      console.debug(\"Bokeh: BokehJS is being loaded, scheduling callback at\", now());\n      return null;\n    }\n    if (js_urls == null || js_urls.length === 0) {\n      run_callbacks();\n      return null;\n    }\n    console.debug(\"Bokeh: BokehJS not loaded, scheduling load and callback at\", now());\n    root._bokeh_is_loading = css_urls.length + js_urls.length;\n\n    function on_load() {\n      root._bokeh_is_loading--;\n      if (root._bokeh_is_loading === 0) {\n        console.debug(\"Bokeh: all BokehJS libraries/stylesheets loaded\");\n        run_callbacks()\n      }\n    }\n\n    function on_error(url) {\n      console.error(\"failed to load \" + url);\n    }\n\n    for (let i = 0; i < css_urls.length; i++) {\n      const url = css_urls[i];\n      const element = document.createElement(\"link\");\n      element.onload = on_load;\n      element.onerror = on_error.bind(null, url);\n      element.rel = \"stylesheet\";\n      element.type = \"text/css\";\n      element.href = url;\n      console.debug(\"Bokeh: injecting link tag for BokehJS stylesheet: \", url);\n      document.body.appendChild(element);\n    }\n\n    for (let i = 0; i < js_urls.length; i++) {\n      const url = js_urls[i];\n      const element = document.createElement('script');\n      element.onload = on_load;\n      element.onerror = on_error.bind(null, url);\n      element.async = false;\n      element.src = url;\n      console.debug(\"Bokeh: injecting script tag for BokehJS library: \", url);\n      document.head.appendChild(element);\n    }\n  };\n\n  function inject_raw_css(css) {\n    const element = document.createElement(\"style\");\n    element.appendChild(document.createTextNode(css));\n    document.body.appendChild(element);\n  }\n\n  const js_urls = [\"https://cdn.bokeh.org/bokeh/release/bokeh-3.6.3.min.js\", \"https://cdn.bokeh.org/bokeh/release/bokeh-gl-3.6.3.min.js\", \"https://cdn.bokeh.org/bokeh/release/bokeh-widgets-3.6.3.min.js\", \"https://cdn.bokeh.org/bokeh/release/bokeh-tables-3.6.3.min.js\", \"https://cdn.bokeh.org/bokeh/release/bokeh-mathjax-3.6.3.min.js\"];\n  const css_urls = [];\n\n  const inline_js = [    function(Bokeh) {\n      Bokeh.set_log_level(\"info\");\n    },\nfunction(Bokeh) {\n    }\n  ];\n\n  function run_inline_js() {\n    if (root.Bokeh !== undefined || force === true) {\n      try {\n            for (let i = 0; i < inline_js.length; i++) {\n      inline_js[i].call(root, root.Bokeh);\n    }\n\n      } catch (error) {display_loaded(error);throw error;\n      }if (force === true) {\n        display_loaded();\n      }} else if (Date.now() < root._bokeh_timeout) {\n      setTimeout(run_inline_js, 100);\n    } else if (!root._bokeh_failed_load) {\n      console.log(\"Bokeh: BokehJS failed to load within specified timeout.\");\n      root._bokeh_failed_load = true;\n    } else if (force !== true) {\n      const cell = $(document.getElementById(\"e90a4251-f012-476e-aca8-0f3f2b706c85\")).parents('.cell').data().cell;\n      cell.output_area.append_execute_result(NB_LOAD_WARNING)\n    }\n  }\n\n  if (root._bokeh_is_loading === 0) {\n    console.debug(\"Bokeh: BokehJS loaded, going straight to plotting\");\n    run_inline_js();\n  } else {\n    load_libs(css_urls, js_urls, function() {\n      console.debug(\"Bokeh: BokehJS plotting callback run at\", now());\n      run_inline_js();\n    });\n  }\n}(window));",
      "application/vnd.bokehjs_load.v0+json": "'use strict';\n(function(root) {\n  function now() {\n    return new Date();\n  }\n\n  const force = true;\n\n  if (typeof root._bokeh_onload_callbacks === \"undefined\" || force === true) {\n    root._bokeh_onload_callbacks = [];\n    root._bokeh_is_loading = undefined;\n  }\n\n\n  if (typeof (root._bokeh_timeout) === \"undefined\" || force === true) {\n    root._bokeh_timeout = Date.now() + 5000;\n    root._bokeh_failed_load = false;\n  }\n\n  const NB_LOAD_WARNING = {'data': {'text/html':\n     \"<div style='background-color: #fdd'>\\n\"+\n     \"<p>\\n\"+\n     \"BokehJS does not appear to have successfully loaded. If loading BokehJS from CDN, this \\n\"+\n     \"may be due to a slow or bad network connection. Possible fixes:\\n\"+\n     \"</p>\\n\"+\n     \"<ul>\\n\"+\n     \"<li>re-rerun `output_notebook()` to attempt to load from CDN again, or</li>\\n\"+\n     \"<li>use INLINE resources instead, as so:</li>\\n\"+\n     \"</ul>\\n\"+\n     \"<code>\\n\"+\n     \"from bokeh.resources import INLINE\\n\"+\n     \"output_notebook(resources=INLINE)\\n\"+\n     \"</code>\\n\"+\n     \"</div>\"}};\n\n  function display_loaded(error = null) {\n    const el = document.getElementById(\"e90a4251-f012-476e-aca8-0f3f2b706c85\");\n    if (el != null) {\n      const html = (() => {\n        if (typeof root.Bokeh === \"undefined\") {\n          if (error == null) {\n            return \"BokehJS is loading ...\";\n          } else {\n            return \"BokehJS failed to load.\";\n          }\n        } else {\n          const prefix = `BokehJS ${root.Bokeh.version}`;\n          if (error == null) {\n            return `${prefix} successfully loaded.`;\n          } else {\n            return `${prefix} <b>encountered errors</b> while loading and may not function as expected.`;\n          }\n        }\n      })();\n      el.innerHTML = html;\n\n      if (error != null) {\n        const wrapper = document.createElement(\"div\");\n        wrapper.style.overflow = \"auto\";\n        wrapper.style.height = \"5em\";\n        wrapper.style.resize = \"vertical\";\n        const content = document.createElement(\"div\");\n        content.style.fontFamily = \"monospace\";\n        content.style.whiteSpace = \"pre-wrap\";\n        content.style.backgroundColor = \"rgb(255, 221, 221)\";\n        content.textContent = error.stack ?? error.toString();\n        wrapper.append(content);\n        el.append(wrapper);\n      }\n    } else if (Date.now() < root._bokeh_timeout) {\n      setTimeout(() => display_loaded(error), 100);\n    }\n  }\n\n  function run_callbacks() {\n    try {\n      root._bokeh_onload_callbacks.forEach(function(callback) {\n        if (callback != null)\n          callback();\n      });\n    } finally {\n      delete root._bokeh_onload_callbacks\n    }\n    console.debug(\"Bokeh: all callbacks have finished\");\n  }\n\n  function load_libs(css_urls, js_urls, callback) {\n    if (css_urls == null) css_urls = [];\n    if (js_urls == null) js_urls = [];\n\n    root._bokeh_onload_callbacks.push(callback);\n    if (root._bokeh_is_loading > 0) {\n      console.debug(\"Bokeh: BokehJS is being loaded, scheduling callback at\", now());\n      return null;\n    }\n    if (js_urls == null || js_urls.length === 0) {\n      run_callbacks();\n      return null;\n    }\n    console.debug(\"Bokeh: BokehJS not loaded, scheduling load and callback at\", now());\n    root._bokeh_is_loading = css_urls.length + js_urls.length;\n\n    function on_load() {\n      root._bokeh_is_loading--;\n      if (root._bokeh_is_loading === 0) {\n        console.debug(\"Bokeh: all BokehJS libraries/stylesheets loaded\");\n        run_callbacks()\n      }\n    }\n\n    function on_error(url) {\n      console.error(\"failed to load \" + url);\n    }\n\n    for (let i = 0; i < css_urls.length; i++) {\n      const url = css_urls[i];\n      const element = document.createElement(\"link\");\n      element.onload = on_load;\n      element.onerror = on_error.bind(null, url);\n      element.rel = \"stylesheet\";\n      element.type = \"text/css\";\n      element.href = url;\n      console.debug(\"Bokeh: injecting link tag for BokehJS stylesheet: \", url);\n      document.body.appendChild(element);\n    }\n\n    for (let i = 0; i < js_urls.length; i++) {\n      const url = js_urls[i];\n      const element = document.createElement('script');\n      element.onload = on_load;\n      element.onerror = on_error.bind(null, url);\n      element.async = false;\n      element.src = url;\n      console.debug(\"Bokeh: injecting script tag for BokehJS library: \", url);\n      document.head.appendChild(element);\n    }\n  };\n\n  function inject_raw_css(css) {\n    const element = document.createElement(\"style\");\n    element.appendChild(document.createTextNode(css));\n    document.body.appendChild(element);\n  }\n\n  const js_urls = [\"https://cdn.bokeh.org/bokeh/release/bokeh-3.6.3.min.js\", \"https://cdn.bokeh.org/bokeh/release/bokeh-gl-3.6.3.min.js\", \"https://cdn.bokeh.org/bokeh/release/bokeh-widgets-3.6.3.min.js\", \"https://cdn.bokeh.org/bokeh/release/bokeh-tables-3.6.3.min.js\", \"https://cdn.bokeh.org/bokeh/release/bokeh-mathjax-3.6.3.min.js\"];\n  const css_urls = [];\n\n  const inline_js = [    function(Bokeh) {\n      Bokeh.set_log_level(\"info\");\n    },\nfunction(Bokeh) {\n    }\n  ];\n\n  function run_inline_js() {\n    if (root.Bokeh !== undefined || force === true) {\n      try {\n            for (let i = 0; i < inline_js.length; i++) {\n      inline_js[i].call(root, root.Bokeh);\n    }\n\n      } catch (error) {display_loaded(error);throw error;\n      }if (force === true) {\n        display_loaded();\n      }} else if (Date.now() < root._bokeh_timeout) {\n      setTimeout(run_inline_js, 100);\n    } else if (!root._bokeh_failed_load) {\n      console.log(\"Bokeh: BokehJS failed to load within specified timeout.\");\n      root._bokeh_failed_load = true;\n    } else if (force !== true) {\n      const cell = $(document.getElementById(\"e90a4251-f012-476e-aca8-0f3f2b706c85\")).parents('.cell').data().cell;\n      cell.output_area.append_execute_result(NB_LOAD_WARNING)\n    }\n  }\n\n  if (root._bokeh_is_loading === 0) {\n    console.debug(\"Bokeh: BokehJS loaded, going straight to plotting\");\n    run_inline_js();\n  } else {\n    load_libs(css_urls, js_urls, function() {\n      console.debug(\"Bokeh: BokehJS plotting callback run at\", now());\n      run_inline_js();\n    });\n  }\n}(window));"
     },
     "metadata": {},
     "output_type": "display_data"
    },
    {
     "name": "stderr",
     "output_type": "stream",
     "text": [
      "[11:15:43] product atom-mapping number 10 not found in reactants.\n",
      "[11:15:43] product atom-mapping number 10 not found in reactants.\n",
      "[11:15:43] product atom-mapping number 10 not found in reactants.\n",
      "[11:15:43] product atom-mapping number 10 not found in reactants.\n",
      "[11:15:43] product atom-mapping number 10 not found in reactants.\n",
      "[11:15:43] product atom-mapping number 10 not found in reactants.\n",
      "[11:15:43] product atom-mapping number 10 not found in reactants.\n",
      "[11:15:43] product atom-mapping number 10 not found in reactants.\n",
      "[11:15:43] product atom-mapping number 10 not found in reactants.\n",
      "[11:15:43] product atom-mapping number 10 not found in reactants.\n",
      "[11:15:43] product atom-mapping number 10 not found in reactants.\n"
     ]
    },
    {
     "name": "stdout",
     "output_type": "stream",
     "text": [
      "\n",
      "\n",
      "\n",
      "\n",
      "\n",
      "\n",
      "\n",
      "\n",
      "\n",
      "\n",
      "\n",
      "\n",
      "\n",
      "\n",
      "\n",
      "\n",
      "\n",
      "\n",
      "\n",
      "\n",
      "\n",
      "\n",
      "\n",
      "\n",
      "\n",
      "\n",
      "\n",
      "\n",
      "\n",
      "\n",
      "\n",
      "\n",
      "\n",
      "\n",
      "\n",
      "\n",
      "\n",
      "\n",
      "\n",
      "\n",
      "\n",
      "\n",
      "\n",
      "\n",
      "\n",
      "\n",
      "\n",
      "\n",
      "\n",
      "\n",
      "\n",
      "\n",
      "\n",
      "\n",
      "\n",
      "\n",
      "\n",
      "\n",
      "\n",
      "\n",
      "\n",
      "\n",
      "\n",
      "\n",
      "\n",
      "\n",
      "\n",
      "\n",
      "\n",
      "\n",
      "\n",
      "\n",
      "\n",
      "\n",
      "\n",
      "\n",
      "\n",
      "\n",
      "\n",
      "\n",
      "\n",
      "\n",
      "\n",
      "\n",
      "\n",
      "\n",
      "\n",
      "\n",
      "\n",
      "\n",
      "\n",
      "\n",
      "\n",
      "\n",
      "\n",
      "\n",
      "\n",
      "\n",
      "\n",
      "\n",
      "\n",
      "\n",
      "\n",
      "\n",
      "\n",
      "\n",
      "\n",
      "\n",
      "\n",
      "\n",
      "\n",
      "\n",
      "\n",
      "\n",
      "\n",
      "\n",
      "\n",
      "\n",
      "\n",
      "\n",
      "\n",
      "\n",
      "\n",
      "\n",
      "\n",
      "\n",
      "\n",
      "\n",
      "\n",
      "\n",
      "\n",
      "\n",
      "\n",
      "\n",
      "\n",
      "\n",
      "\n",
      "\n",
      "\n",
      "\n",
      "\n",
      "\n",
      "\n",
      "\n",
      "\n",
      "\n",
      "\n",
      "\n",
      "\n",
      "\n",
      "\n",
      "\n",
      "\n",
      "\n",
      "\n",
      "\n",
      "\n",
      "\n",
      "\n",
      "\n",
      "\n",
      "\n",
      "\n",
      "\n",
      "\n",
      "\n",
      "\n",
      "\n",
      "\n",
      "\n",
      "\n",
      "\n",
      "\n",
      "\n",
      "\n",
      "\n",
      "\n",
      "\n",
      "\n",
      "\n",
      "\n",
      "\n",
      "\n",
      "\n",
      "\n",
      "\n",
      "\n",
      "\n",
      "\n",
      "\n",
      "\n",
      "\n",
      "\n",
      "\n",
      "\n",
      "\n",
      "\n",
      "\n",
      "\n",
      "\n",
      "\n",
      "\n",
      "\n",
      "\n",
      "\n",
      "\n",
      "\n",
      "\n",
      "\n",
      "\n",
      "\n",
      "\n",
      "\n",
      "\n",
      "\n",
      "\n",
      "\n",
      "\n",
      "\n",
      "\n",
      "\n",
      "\n",
      "\n",
      "\n",
      "\n",
      "\n",
      "\n",
      "\n",
      "\n",
      "\n",
      "\n",
      "\n",
      "\n",
      "\n",
      "\n",
      "\n",
      "\n",
      "\n",
      "\n",
      "\n",
      "\n",
      "\n",
      "\n",
      "\n",
      "\n",
      "\n",
      "\n",
      "\n",
      "\n",
      "\n",
      "\n",
      "\n",
      "\n",
      "\n",
      "\n",
      "\n",
      "\n",
      "\n",
      "\n",
      "\n",
      "\n",
      "\n",
      "\n",
      "\n",
      "\n",
      "\n",
      "\n",
      "\n",
      "\n",
      "\n",
      "\n",
      "\n",
      "\n",
      "\n",
      "\n",
      "\n",
      "\n",
      "\n",
      "\n",
      "\n",
      "\n",
      "\n",
      "\n",
      "\n",
      "\n",
      "\n",
      "\n",
      "\n",
      "\n",
      "\n",
      "\n",
      "\n",
      "\n",
      "\n",
      "\n",
      "\n",
      "\n",
      "\n",
      "\n",
      "\n",
      "\n",
      "\n",
      "\n",
      "\n",
      "\n",
      "\n",
      "\n",
      "\n",
      "\n",
      "\n",
      "\n",
      "\n",
      "\n",
      "\n",
      "\n",
      "\n",
      "\n",
      "\n",
      "\n",
      "\n",
      "[\"AT{'substrate': 'isobutmal'}\", \"KR{'type': 'B2'}\", 'loading: False']\n",
      "[\"AT{'substrate': 'Methylmalonyl-CoA'}\", \"KR{'type': 'A2'}\", 'loading: False']\n",
      "[\"AT{'substrate': 'DCP'}\", \"KR{'type': 'A2'}\", 'loading: False']\n",
      "[\"AT{'substrate': 'Methylmalonyl-CoA'}\", \"KR{'type': 'B2'}\", 'loading: False']\n",
      "[\"AT{'substrate': 'D-isobutmal'}\", \"KR{'type': 'B1'}\", 'DH{}', 'ER{}', 'loading: False']\n",
      "[\"AT{'substrate': 'emal'}\", \"KR{'type': 'C2'}\", 'loading: False']\n",
      "[\"AT{'substrate': 'hmal'}\", \"KR{'type': 'B2'}\", 'loading: False']\n",
      "[\"AT{'substrate': 'isobutmal'}\", \"KR{'type': 'C1'}\", 'loading: False']\n",
      "[\"AT{'substrate': 'butmal'}\", \"KR{'type': 'A1'}\", 'loading: False']\n",
      "[\"AT{'substrate': 'D-isobutmal'}\", \"KR{'type': 'B1'}\", 'loading: False']\n",
      "[\"AT{'substrate': 'allylmal'}\", \"KR{'type': 'C2'}\", 'loading: False']\n"
     ]
    }
   ],
   "execution_count": 1
  },
  {
   "metadata": {
    "ExecuteTime": {
     "end_time": "2025-03-12T18:16:48.545522Z",
     "start_time": "2025-03-12T18:16:26.347386Z"
    }
   },
   "cell_type": "code",
   "source": [
    "root = Node(PKS_product = None,\n",
    "            PKS_design = None,\n",
    "            parent = None,\n",
    "            depth = 0)\n",
    "\n",
    "mcts = MCTS(root = root,\n",
    "            target_molecule = Chem.MolFromSmiles(\"O=C1C=CCC(CO)O1\"), # OC(CC(O)CC(O)=O)/C=C/C1=CC=CC=C1 # CCCCCC(=O)O # O=C1C=CCC(CO)O1\n",
    "            max_depth = 10,\n",
    "            total_iterations = 15000,\n",
    "            maxPKSDesignsRetroTide = 25,\n",
    "            selection_policy = \"UCB1\")\n",
    "\n",
    "mcts.run()"
   ],
   "id": "a3abe85e28b1cb4b",
   "outputs": [
    {
     "name": "stdout",
     "output_type": "stream",
     "text": [
      "\n",
      "Selected leaf node at depth 0\n",
      "\n",
      "computing module 1\n",
      "   testing 2755 designs\n",
      "Expanded leaf node: 25 new children\n",
      "computing module 1\n",
      "   testing 2755 designs\n",
      "   best score is 0.75\n",
      "computing module 2\n",
      "   testing 1425 designs\n",
      "   best score is 0.8888888888888888\n",
      "computing module 3\n",
      "   testing 1425 designs\n",
      "   best score is 0.8181818181818182\n",
      "TARGET REACHED IN SIMULATION THROUGH CYCLIZATION!\n",
      "Simulation reward = 0.89\n",
      "Backpropagation complete.\n",
      "\n",
      "Selected leaf node at depth 1\n",
      "\n",
      "computing module 3\n",
      "   testing 95 designs\n",
      "Expanded leaf node: 25 new children\n",
      "computing module 1\n",
      "   testing 95 designs\n",
      "   best score is 0.8888888888888888\n",
      "computing module 2\n",
      "   testing 1425 designs\n",
      "   best score is 0.8181818181818182\n",
      "TARGET REACHED IN SIMULATION THROUGH CYCLIZATION!\n",
      "Simulation reward = 0.89\n",
      "Backpropagation complete.\n",
      "\n",
      "Selected leaf node at depth 1\n",
      "\n",
      "computing module 3\n",
      "   testing 95 designs\n",
      "Expanded leaf node: 25 new children\n",
      "computing module 1\n",
      "   testing 95 designs\n",
      "   best score is 0.8888888888888888\n",
      "computing module 2\n",
      "   testing 1425 designs\n",
      "   best score is 0.8181818181818182\n",
      "TARGET REACHED IN SIMULATION THROUGH CYCLIZATION!\n",
      "Simulation reward = 0.89\n",
      "Backpropagation complete.\n",
      "TARGET REACHED IN SELECTION THROUGH CYCLIZATION!\n",
      "\n",
      "Selected leaf node at depth 2\n",
      "\n",
      "computing module 4\n",
      "   testing 95 designs\n",
      "Expanded leaf node: 25 new children\n",
      "computing module 1\n",
      "   testing 95 designs\n",
      "   best score is 0.8181818181818182\n",
      "TARGET REACHED IN SIMULATION THROUGH CYCLIZATION!\n",
      "Simulation reward = 0.89\n",
      "Backpropagation complete.\n",
      "TARGET REACHED IN SELECTION THROUGH CYCLIZATION!\n",
      "\n",
      "Selected leaf node at depth 2\n",
      "\n",
      "computing module 4\n",
      "   testing 95 designs\n",
      "Expanded leaf node: 25 new children\n",
      "computing module 1\n",
      "   testing 95 designs\n",
      "   best score is 0.8181818181818182\n",
      "TARGET REACHED IN SIMULATION THROUGH CYCLIZATION!\n",
      "Simulation reward = 0.89\n",
      "Backpropagation complete.\n",
      "🚨 Terminating MCTS: No valid child node found (no subgraph match).\n",
      "[MCTS Termination] No valid nodes to select. Stopping search.\n",
      "Total nodes stored: 126\n",
      "Total edges stored: 125\n"
     ]
    }
   ],
   "execution_count": 3
  },
  {
   "metadata": {
    "ExecuteTime": {
     "end_time": "2025-03-12T18:18:05.434043Z",
     "start_time": "2025-03-12T18:18:05.381480Z"
    }
   },
   "cell_type": "code",
   "source": [
    "def visualize_mcts_tree(mcts):\n",
    "    \"\"\"Visualizes the MCTS search tree using NetworkX and Bokeh with a depth legend.\"\"\"\n",
    "\n",
    "    G = nx.DiGraph()\n",
    "    for node in mcts.nodes:\n",
    "        G.add_node(node.node_id,\n",
    "                   depth = node.depth,\n",
    "                   visits = node.visits,\n",
    "                   value = node.value,\n",
    "                   score = node.selection_score,\n",
    "                   expand = node.expand)\n",
    "\n",
    "    for parent_id, child_id in mcts.edges:\n",
    "        G.add_edge(parent_id, child_id)\n",
    "\n",
    "    # Compute layout\n",
    "    pos = nx.spring_layout(G, seed=42, scale=500)\n",
    "\n",
    "    # Extract x, y coordinates\n",
    "    node_x = [pos[node][0] for node in G.nodes()]\n",
    "    node_y = [pos[node][1] for node in G.nodes()]\n",
    "    edge_x, edge_y = [], []\n",
    "\n",
    "    for edge in G.edges():\n",
    "        x0, y0 = pos[edge[0]]\n",
    "        x1, y1 = pos[edge[1]]\n",
    "        edge_x.extend([x0, x1, None])\n",
    "        edge_y.extend([y0, y1, None])\n",
    "\n",
    "    # Create Bokeh figure\n",
    "    plot = figure(title=\"MCTS Search Tree\",\n",
    "                  width=1000, height=800,\n",
    "                  x_range=(-550, 550), y_range=(-550, 550),\n",
    "                  tools=\"pan,wheel_zoom,box_zoom,reset,save\")\n",
    "\n",
    "    # Add hover tool\n",
    "    plot.add_tools(\n",
    "        HoverTool(tooltips=[(\"Node\", \"@index\"),\n",
    "                            (\"Depth\", \"@depth\"),\n",
    "                            (\"Visits\", \"@visits\"),\n",
    "                            (\"Value\", \"@value\"),\n",
    "                            (\"Selection score\", \"@score\"),\n",
    "                            (\"Expand\", \"@expand\"),]))\n",
    "\n",
    "    graph = GraphRenderer()\n",
    "\n",
    "    # Get depth values for color mapping\n",
    "    depths = [G.nodes[n]['depth'] for n in G.nodes()]\n",
    "    min_depth, max_depth = min(depths), max(depths)\n",
    "\n",
    "    # Create color mapper and color bar\n",
    "    color_mapper = LinearColorMapper(palette=Viridis256, low=min_depth, high=max_depth)\n",
    "    color_bar = ColorBar(color_mapper=color_mapper, location=(0, 0), title=\"Depth\")\n",
    "\n",
    "    # Set node positions and attributes\n",
    "    graph.node_renderer.data_source.data = dict(\n",
    "        index = list(G.nodes()),\n",
    "        x = node_x,\n",
    "        y = node_y,\n",
    "        depth = depths,\n",
    "        visits = [G.nodes[n]['visits'] for n in G.nodes()],\n",
    "        score = [G.nodes[n]['score'] for n in G.nodes()],\n",
    "        expand = [G.nodes[n]['expand'] for n in G.nodes()]\n",
    "    )\n",
    "\n",
    "    graph.node_renderer.glyph = Circle(radius=4, fill_color=linear_cmap(\"depth\", Viridis256, min_depth, max_depth), line_color=None)\n",
    "\n",
    "    # Set edge positions\n",
    "    graph.edge_renderer.data_source.data = dict(start=[e[0] for e in G.edges()], end=[e[1] for e in G.edges()])\n",
    "    graph.edge_renderer.glyph = MultiLine(line_color=\"gray\", line_width=1)\n",
    "\n",
    "    graph.layout_provider = StaticLayoutProvider(graph_layout=pos)\n",
    "\n",
    "    plot.add_layout(color_bar, 'right')  # Add the color bar to the right side\n",
    "    plot.renderers.append(graph)\n",
    "\n",
    "    show(plot)\n"
   ],
   "id": "2f46162009fce8d9",
   "outputs": [],
   "execution_count": 10
  },
  {
   "metadata": {
    "ExecuteTime": {
     "end_time": "2025-03-12T18:18:06.539923Z",
     "start_time": "2025-03-12T18:18:06.299393Z"
    }
   },
   "cell_type": "code",
   "source": "visualize_mcts_tree(mcts)",
   "id": "9f143567b64db215",
   "outputs": [
    {
     "data": {
      "text/html": [
       "\n",
       "  <div id=\"d3f9d337-f7c9-4f47-bf46-ed9845bae24b\" data-root-id=\"p1188\" style=\"display: contents;\"></div>\n"
      ]
     },
     "metadata": {},
     "output_type": "display_data"
    },
    {
     "data": {
      "application/javascript": "(function(root) {\n  function embed_document(root) {\n  const docs_json = {\"3a8bca10-b40c-4671-8517-df950fad4bcf\":{\"version\":\"3.6.3\",\"title\":\"Bokeh Application\",\"roots\":[{\"type\":\"object\",\"name\":\"Figure\",\"id\":\"p1188\",\"attributes\":{\"width\":1000,\"height\":800,\"x_range\":{\"type\":\"object\",\"name\":\"Range1d\",\"id\":\"p1198\",\"attributes\":{\"start\":-550,\"end\":550}},\"y_range\":{\"type\":\"object\",\"name\":\"Range1d\",\"id\":\"p1199\",\"attributes\":{\"start\":-550,\"end\":550}},\"x_scale\":{\"type\":\"object\",\"name\":\"LinearScale\",\"id\":\"p1200\"},\"y_scale\":{\"type\":\"object\",\"name\":\"LinearScale\",\"id\":\"p1201\"},\"title\":{\"type\":\"object\",\"name\":\"Title\",\"id\":\"p1191\",\"attributes\":{\"text\":\"MCTS Search Tree\",\"text_color\":\"#5B5B5B\",\"text_font\":\"Helvetica\",\"text_font_size\":\"1.15em\"}},\"renderers\":[{\"type\":\"object\",\"name\":\"GraphRenderer\",\"id\":\"p1225\",\"attributes\":{\"layout_provider\":{\"type\":\"object\",\"name\":\"StaticLayoutProvider\",\"id\":\"p1248\",\"attributes\":{\"graph_layout\":{\"type\":\"map\",\"entries\":[[2851,{\"type\":\"ndarray\",\"array\":{\"type\":\"bytes\",\"data\":\"i92+4J9EUcAkwBTbVrUrQA==\"},\"shape\":[2],\"dtype\":\"float64\",\"order\":\"little\"}],[2852,{\"type\":\"ndarray\",\"array\":{\"type\":\"bytes\",\"data\":\"mHVS6oEwd0B7IrZaAzFxQA==\"},\"shape\":[2],\"dtype\":\"float64\",\"order\":\"little\"}],[2853,{\"type\":\"ndarray\",\"array\":{\"type\":\"bytes\",\"data\":\"a8NJ3YpZdcAmVTS6tbV2wA==\"},\"shape\":[2],\"dtype\":\"float64\",\"order\":\"little\"}],[2854,{\"type\":\"ndarray\",\"array\":{\"type\":\"bytes\",\"data\":\"8MbiXYXqe8Cptk9gU9VuQA==\"},\"shape\":[2],\"dtype\":\"float64\",\"order\":\"little\"}],[2855,{\"type\":\"ndarray\",\"array\":{\"type\":\"bytes\",\"data\":\"MSy3FwEjXEDUn39w3Lt7QA==\"},\"shape\":[2],\"dtype\":\"float64\",\"order\":\"little\"}],[2856,{\"type\":\"ndarray\",\"array\":{\"type\":\"bytes\",\"data\":\"fMuyzi18dcB70H1b2hp5QA==\"},\"shape\":[2],\"dtype\":\"float64\",\"order\":\"little\"}],[2857,{\"type\":\"ndarray\",\"array\":{\"type\":\"bytes\",\"data\":\"hJky3R89eED6aZxUlCtzwA==\"},\"shape\":[2],\"dtype\":\"float64\",\"order\":\"little\"}],[2858,{\"type\":\"ndarray\",\"array\":{\"type\":\"bytes\",\"data\":\"04SF1V9leMBogfE0EKlywA==\"},\"shape\":[2],\"dtype\":\"float64\",\"order\":\"little\"}],[2859,{\"type\":\"ndarray\",\"array\":{\"type\":\"bytes\",\"data\":\"xeydO6mie8AioJUkIc9FQA==\"},\"shape\":[2],\"dtype\":\"float64\",\"order\":\"little\"}],[2860,{\"type\":\"ndarray\",\"array\":{\"type\":\"bytes\",\"data\":\"KE0Qkb6jMsB/p+3NqOwzwA==\"},\"shape\":[2],\"dtype\":\"float64\",\"order\":\"little\"}],[2861,{\"type\":\"ndarray\",\"array\":{\"type\":\"bytes\",\"data\":\"wX9X2yW+PUCfZN2d7d5BwA==\"},\"shape\":[2],\"dtype\":\"float64\",\"order\":\"little\"}],[2862,{\"type\":\"ndarray\",\"array\":{\"type\":\"bytes\",\"data\":\"Y2D5UWrGecCXn+NBu9NowA==\"},\"shape\":[2],\"dtype\":\"float64\",\"order\":\"little\"}],[2863,{\"type\":\"ndarray\",\"array\":{\"type\":\"bytes\",\"data\":\"5c681XGU4T82D3W9OCp9QA==\"},\"shape\":[2],\"dtype\":\"float64\",\"order\":\"little\"}],[2864,{\"type\":\"ndarray\",\"array\":{\"type\":\"bytes\",\"data\":\"A2LPajd4fMAN1JzsCBJZQA==\"},\"shape\":[2],\"dtype\":\"float64\",\"order\":\"little\"}],[2865,{\"type\":\"ndarray\",\"array\":{\"type\":\"bytes\",\"data\":\"1f2ESh9EOkAHuyrshvB+wA==\"},\"shape\":[2],\"dtype\":\"float64\",\"order\":\"little\"}],[2866,{\"type\":\"ndarray\",\"array\":{\"type\":\"bytes\",\"data\":\"VOTPOGLEWkBbAdSMVxN9wA==\"},\"shape\":[2],\"dtype\":\"float64\",\"order\":\"little\"}],[2867,{\"type\":\"ndarray\",\"array\":{\"type\":\"bytes\",\"data\":\"B/SbR8L7ccAQPJEWKQt7QA==\"},\"shape\":[2],\"dtype\":\"float64\",\"order\":\"little\"}],[2868,{\"type\":\"ndarray\",\"array\":{\"type\":\"bytes\",\"data\":\"bBr6oOi9fED5DMkeyZ1sQA==\"},\"shape\":[2],\"dtype\":\"float64\",\"order\":\"little\"}],[2869,{\"type\":\"ndarray\",\"array\":{\"type\":\"bytes\",\"data\":\"PDSd4muXbcC/83sVnPt6wA==\"},\"shape\":[2],\"dtype\":\"float64\",\"order\":\"little\"}],[2870,{\"type\":\"ndarray\",\"array\":{\"type\":\"bytes\",\"data\":\"1V3GewaieUC7yMuTwEFowA==\"},\"shape\":[2],\"dtype\":\"float64\",\"order\":\"little\"}],[2871,{\"type\":\"ndarray\",\"array\":{\"type\":\"bytes\",\"data\":\"c7EfxrP4fcAkoL+n99AxQA==\"},\"shape\":[2],\"dtype\":\"float64\",\"order\":\"little\"}],[2872,{\"type\":\"ndarray\",\"array\":{\"type\":\"bytes\",\"data\":\"FVgWR2D0esCewHlXfA9yQA==\"},\"shape\":[2],\"dtype\":\"float64\",\"order\":\"little\"}],[2873,{\"type\":\"ndarray\",\"array\":{\"type\":\"bytes\",\"data\":\"orlali/ncMDUmERMvHt3QA==\"},\"shape\":[2],\"dtype\":\"float64\",\"order\":\"little\"}],[2874,{\"type\":\"ndarray\",\"array\":{\"type\":\"bytes\",\"data\":\"1GEIqYIcc8APbrycP69yQA==\"},\"shape\":[2],\"dtype\":\"float64\",\"order\":\"little\"}],[2875,{\"type\":\"ndarray\",\"array\":{\"type\":\"bytes\",\"data\":\"b7c0vQjJTUCSwqfGyVJ9wA==\"},\"shape\":[2],\"dtype\":\"float64\",\"order\":\"little\"}],[2876,{\"type\":\"ndarray\",\"array\":{\"type\":\"bytes\",\"data\":\"9OHCQYc/fkCAvrc/g/tjQA==\"},\"shape\":[2],\"dtype\":\"float64\",\"order\":\"little\"}],[2877,{\"type\":\"ndarray\",\"array\":{\"type\":\"bytes\",\"data\":\"N1/zGWBXQUAf5Tacp5kmwA==\"},\"shape\":[2],\"dtype\":\"float64\",\"order\":\"little\"}],[2878,{\"type\":\"ndarray\",\"array\":{\"type\":\"bytes\",\"data\":\"wmlw0d0KQ0CbkDkrjZF+QA==\"},\"shape\":[2],\"dtype\":\"float64\",\"order\":\"little\"}],[2879,{\"type\":\"ndarray\",\"array\":{\"type\":\"bytes\",\"data\":\"iiaaMothesAtIZFBhQRxwA==\"},\"shape\":[2],\"dtype\":\"float64\",\"order\":\"little\"}],[2880,{\"type\":\"ndarray\",\"array\":{\"type\":\"bytes\",\"data\":\"KFZKxhscfsCP5GjD5wRfwA==\"},\"shape\":[2],\"dtype\":\"float64\",\"order\":\"little\"}],[2881,{\"type\":\"ndarray\",\"array\":{\"type\":\"bytes\",\"data\":\"7VmLD+HtZ8Ci7cJp9jJ6wA==\"},\"shape\":[2],\"dtype\":\"float64\",\"order\":\"little\"}],[2882,{\"type\":\"ndarray\",\"array\":{\"type\":\"bytes\",\"data\":\"e9x3Lm6VfEAcQNEhzoJiwA==\"},\"shape\":[2],\"dtype\":\"float64\",\"order\":\"little\"}],[2883,{\"type\":\"ndarray\",\"array\":{\"type\":\"bytes\",\"data\":\"hlqYvbo5esDTlt+0635lQA==\"},\"shape\":[2],\"dtype\":\"float64\",\"order\":\"little\"}],[2884,{\"type\":\"ndarray\",\"array\":{\"type\":\"bytes\",\"data\":\"n0JESOy5c8Bi74iLSsZ3QA==\"},\"shape\":[2],\"dtype\":\"float64\",\"order\":\"little\"}],[2885,{\"type\":\"ndarray\",\"array\":{\"type\":\"bytes\",\"data\":\"I2PN/i7qaMBMZc4cW/J9QA==\"},\"shape\":[2],\"dtype\":\"float64\",\"order\":\"little\"}],[2886,{\"type\":\"ndarray\",\"array\":{\"type\":\"bytes\",\"data\":\"EhO7Nqn7cUBhaa4onqZ4wA==\"},\"shape\":[2],\"dtype\":\"float64\",\"order\":\"little\"}],[2887,{\"type\":\"ndarray\",\"array\":{\"type\":\"bytes\",\"data\":\"BLrgcIjkfcAder7sGtxmQA==\"},\"shape\":[2],\"dtype\":\"float64\",\"order\":\"little\"}],[2888,{\"type\":\"ndarray\",\"array\":{\"type\":\"bytes\",\"data\":\"DjEkDbXlcUBm/4Dzt3N3QA==\"},\"shape\":[2],\"dtype\":\"float64\",\"order\":\"little\"}],[2889,{\"type\":\"ndarray\",\"array\":{\"type\":\"bytes\",\"data\":\"PeW+NNR0cEBbl6rV8ex6wA==\"},\"shape\":[2],\"dtype\":\"float64\",\"order\":\"little\"}],[2890,{\"type\":\"ndarray\",\"array\":{\"type\":\"bytes\",\"data\":\"cpKsrpKwJ8CjgB/3SBZ+wA==\"},\"shape\":[2],\"dtype\":\"float64\",\"order\":\"little\"}],[2891,{\"type\":\"ndarray\",\"array\":{\"type\":\"bytes\",\"data\":\"uIGrExFrekDiIGmvmnhtQA==\"},\"shape\":[2],\"dtype\":\"float64\",\"order\":\"little\"}],[2892,{\"type\":\"ndarray\",\"array\":{\"type\":\"bytes\",\"data\":\"BQFevHs5S8CHZlrteLN+wA==\"},\"shape\":[2],\"dtype\":\"float64\",\"order\":\"little\"}],[2893,{\"type\":\"ndarray\",\"array\":{\"type\":\"bytes\",\"data\":\"3Oh6zuUheMCgWAGKchZvwA==\"},\"shape\":[2],\"dtype\":\"float64\",\"order\":\"little\"}],[2894,{\"type\":\"ndarray\",\"array\":{\"type\":\"bytes\",\"data\":\"OXEFc6BndEAtbb9Ix550QA==\"},\"shape\":[2],\"dtype\":\"float64\",\"order\":\"little\"}],[2895,{\"type\":\"ndarray\",\"array\":{\"type\":\"bytes\",\"data\":\"KQOhXMxnfkBYzd/oa1YhwA==\"},\"shape\":[2],\"dtype\":\"float64\",\"order\":\"little\"}],[2896,{\"type\":\"ndarray\",\"array\":{\"type\":\"bytes\",\"data\":\"KZkBZleoe8AV4HRvhChqQA==\"},\"shape\":[2],\"dtype\":\"float64\",\"order\":\"little\"}],[2897,{\"type\":\"ndarray\",\"array\":{\"type\":\"bytes\",\"data\":\"ngopCqfte0A+pcQmFKlgQA==\"},\"shape\":[2],\"dtype\":\"float64\",\"order\":\"little\"}],[2898,{\"type\":\"ndarray\",\"array\":{\"type\":\"bytes\",\"data\":\"y2sux6x9fEB681hYXBBYwA==\"},\"shape\":[2],\"dtype\":\"float64\",\"order\":\"little\"}],[2899,{\"type\":\"ndarray\",\"array\":{\"type\":\"bytes\",\"data\":\"ywuPCiW7bEDT/a9etqB2wA==\"},\"shape\":[2],\"dtype\":\"float64\",\"order\":\"little\"}],[2900,{\"type\":\"ndarray\",\"array\":{\"type\":\"bytes\",\"data\":\"onYnKjM/eMBkdUqOmqF1wA==\"},\"shape\":[2],\"dtype\":\"float64\",\"order\":\"little\"}],[2901,{\"type\":\"ndarray\",\"array\":{\"type\":\"bytes\",\"data\":\"OoAoeeFvfsDzwJ/Iv+ZZQA==\"},\"shape\":[2],\"dtype\":\"float64\",\"order\":\"little\"}],[2902,{\"type\":\"ndarray\",\"array\":{\"type\":\"bytes\",\"data\":\"cLtsnjHpNUD3SINRMblIQA==\"},\"shape\":[2],\"dtype\":\"float64\",\"order\":\"little\"}],[2903,{\"type\":\"ndarray\",\"array\":{\"type\":\"bytes\",\"data\":\"rNMxRSANfUC1cmkqjm1mwA==\"},\"shape\":[2],\"dtype\":\"float64\",\"order\":\"little\"}],[2904,{\"type\":\"ndarray\",\"array\":{\"type\":\"bytes\",\"data\":\"2UH/WRo6VsAJKcqzc3J8QA==\"},\"shape\":[2],\"dtype\":\"float64\",\"order\":\"little\"}],[2905,{\"type\":\"ndarray\",\"array\":{\"type\":\"bytes\",\"data\":\"e4N5+LAPcsBtmsqtwJ15wA==\"},\"shape\":[2],\"dtype\":\"float64\",\"order\":\"little\"}],[2906,{\"type\":\"ndarray\",\"array\":{\"type\":\"bytes\",\"data\":\"/uTy3P/mcsB4cK+5FI93wA==\"},\"shape\":[2],\"dtype\":\"float64\",\"order\":\"little\"}],[2907,{\"type\":\"ndarray\",\"array\":{\"type\":\"bytes\",\"data\":\"aEJQvvKXekB1lPepbHFxQA==\"},\"shape\":[2],\"dtype\":\"float64\",\"order\":\"little\"}],[2908,{\"type\":\"ndarray\",\"array\":{\"type\":\"bytes\",\"data\":\"hkGPIYqyVEBUn9jA7NF9QA==\"},\"shape\":[2],\"dtype\":\"float64\",\"order\":\"little\"}],[2909,{\"type\":\"ndarray\",\"array\":{\"type\":\"bytes\",\"data\":\"OCRu0xy/dECIkouN79t2wA==\"},\"shape\":[2],\"dtype\":\"float64\",\"order\":\"little\"}],[2910,{\"type\":\"ndarray\",\"array\":{\"type\":\"bytes\",\"data\":\"UscfYeFTfkA1JEMz85tIQA==\"},\"shape\":[2],\"dtype\":\"float64\",\"order\":\"little\"}],[2911,{\"type\":\"ndarray\",\"array\":{\"type\":\"bytes\",\"data\":\"wN5j8xJIbEDTixyB9gB8QA==\"},\"shape\":[2],\"dtype\":\"float64\",\"order\":\"little\"}],[2912,{\"type\":\"ndarray\",\"array\":{\"type\":\"bytes\",\"data\":\"sGd8SR4TZcAemL569rp8wA==\"},\"shape\":[2],\"dtype\":\"float64\",\"order\":\"little\"}],[2913,{\"type\":\"ndarray\",\"array\":{\"type\":\"bytes\",\"data\":\"44NQ5UXle8ArFBiL8M5fwA==\"},\"shape\":[2],\"dtype\":\"float64\",\"order\":\"little\"}],[2914,{\"type\":\"ndarray\",\"array\":{\"type\":\"bytes\",\"data\":\"ZsBHu7SocEDH9lX9PmB6QA==\"},\"shape\":[2],\"dtype\":\"float64\",\"order\":\"little\"}],[2915,{\"type\":\"ndarray\",\"array\":{\"type\":\"bytes\",\"data\":\"NOKpBKIqf8BSpfyMRjcuwA==\"},\"shape\":[2],\"dtype\":\"float64\",\"order\":\"little\"}],[2916,{\"type\":\"ndarray\",\"array\":{\"type\":\"bytes\",\"data\":\"mFgnYSJGX8Dphn7UYx18wA==\"},\"shape\":[2],\"dtype\":\"float64\",\"order\":\"little\"}],[2917,{\"type\":\"ndarray\",\"array\":{\"type\":\"bytes\",\"data\":\"r8dQhvmOfMDv3dXa3ZBkwA==\"},\"shape\":[2],\"dtype\":\"float64\",\"order\":\"little\"}],[2918,{\"type\":\"ndarray\",\"array\":{\"type\":\"bytes\",\"data\":\"Ej8R7vNQfkBayJ0cDOxewA==\"},\"shape\":[2],\"dtype\":\"float64\",\"order\":\"little\"}],[2919,{\"type\":\"ndarray\",\"array\":{\"type\":\"bytes\",\"data\":\"JqTout2dRcBtSGLMjRt8QA==\"},\"shape\":[2],\"dtype\":\"float64\",\"order\":\"little\"}],[2920,{\"type\":\"ndarray\",\"array\":{\"type\":\"bytes\",\"data\":\"Tl+H0+hNVcAu3hyT0cp+QA==\"},\"shape\":[2],\"dtype\":\"float64\",\"order\":\"little\"}],[2921,{\"type\":\"ndarray\",\"array\":{\"type\":\"bytes\",\"data\":\"BhSVbjzEfECFRV7UvQVrwA==\"},\"shape\":[2],\"dtype\":\"float64\",\"order\":\"little\"}],[2922,{\"type\":\"ndarray\",\"array\":{\"type\":\"bytes\",\"data\":\"J8B4WUqqMUBP4+Es+Nl7wA==\"},\"shape\":[2],\"dtype\":\"float64\",\"order\":\"little\"}],[2923,{\"type\":\"ndarray\",\"array\":{\"type\":\"bytes\",\"data\":\"e8rA7GwPasCuRS0B1aF8wA==\"},\"shape\":[2],\"dtype\":\"float64\",\"order\":\"little\"}],[2924,{\"type\":\"ndarray\",\"array\":{\"type\":\"bytes\",\"data\":\"lbMJ9cBme0DnGgRGfIc9wA==\"},\"shape\":[2],\"dtype\":\"float64\",\"order\":\"little\"}],[2925,{\"type\":\"ndarray\",\"array\":{\"type\":\"bytes\",\"data\":\"6PuLQ2mhfMB6YLxFQSVpwA==\"},\"shape\":[2],\"dtype\":\"float64\",\"order\":\"little\"}],[2926,{\"type\":\"ndarray\",\"array\":{\"type\":\"bytes\",\"data\":\"z1YBpC/4eUAC/Z9LY4lxwA==\"},\"shape\":[2],\"dtype\":\"float64\",\"order\":\"little\"}],[2927,{\"type\":\"ndarray\",\"array\":{\"type\":\"bytes\",\"data\":\"W/0YXx+nfcAfyP5WTFhCwA==\"},\"shape\":[2],\"dtype\":\"float64\",\"order\":\"little\"}],[2928,{\"type\":\"ndarray\",\"array\":{\"type\":\"bytes\",\"data\":\"sRxcoxrVe0C+bxhUOL9vwA==\"},\"shape\":[2],\"dtype\":\"float64\",\"order\":\"little\"}],[2929,{\"type\":\"ndarray\",\"array\":{\"type\":\"bytes\",\"data\":\"FQLRa8yiZ0B0aQQojf56QA==\"},\"shape\":[2],\"dtype\":\"float64\",\"order\":\"little\"}],[2930,{\"type\":\"ndarray\",\"array\":{\"type\":\"bytes\",\"data\":\"pDsl3wk/bMCqlg1wNOZ5QA==\"},\"shape\":[2],\"dtype\":\"float64\",\"order\":\"little\"}],[2931,{\"type\":\"ndarray\",\"array\":{\"type\":\"bytes\",\"data\":\"CVMhJHDdZcCy0wDJkqt5QA==\"},\"shape\":[2],\"dtype\":\"float64\",\"order\":\"little\"}],[2932,{\"type\":\"ndarray\",\"array\":{\"type\":\"bytes\",\"data\":\"S8wdIwLDeEDY2wr1MyZoQA==\"},\"shape\":[2],\"dtype\":\"float64\",\"order\":\"little\"}],[2933,{\"type\":\"ndarray\",\"array\":{\"type\":\"bytes\",\"data\":\"c4q72AHReMBd5RiKaoRzQA==\"},\"shape\":[2],\"dtype\":\"float64\",\"order\":\"little\"}],[2934,{\"type\":\"ndarray\",\"array\":{\"type\":\"bytes\",\"data\":\"c9o4k8j9b8Afu7673j95wA==\"},\"shape\":[2],\"dtype\":\"float64\",\"order\":\"little\"}],[2935,{\"type\":\"ndarray\",\"array\":{\"type\":\"bytes\",\"data\":\"9yCrQJC1fsAJoX7JaztMQA==\"},\"shape\":[2],\"dtype\":\"float64\",\"order\":\"little\"}],[2936,{\"type\":\"ndarray\",\"array\":{\"type\":\"bytes\",\"data\":\"QF2n8GogaEDKB2rUXz59wA==\"},\"shape\":[2],\"dtype\":\"float64\",\"order\":\"little\"}],[2937,{\"type\":\"ndarray\",\"array\":{\"type\":\"bytes\",\"data\":\"e/mmxo2tSsCCnPdcfMR8wA==\"},\"shape\":[2],\"dtype\":\"float64\",\"order\":\"little\"}],[2938,{\"type\":\"ndarray\",\"array\":{\"type\":\"bytes\",\"data\":\"4ouXD4lkaUDZ0zy9vid7wA==\"},\"shape\":[2],\"dtype\":\"float64\",\"order\":\"little\"}],[2939,{\"type\":\"ndarray\",\"array\":{\"type\":\"bytes\",\"data\":\"BzTF+1wFeEBSxP1pq01vwA==\"},\"shape\":[2],\"dtype\":\"float64\",\"order\":\"little\"}],[2940,{\"type\":\"ndarray\",\"array\":{\"type\":\"bytes\",\"data\":\"t0EgFhBid0CaYr0iuil2wA==\"},\"shape\":[2],\"dtype\":\"float64\",\"order\":\"little\"}],[2941,{\"type\":\"ndarray\",\"array\":{\"type\":\"bytes\",\"data\":\"KHoo7etuV8CYWM8dXdx9wA==\"},\"shape\":[2],\"dtype\":\"float64\",\"order\":\"little\"}],[2942,{\"type\":\"ndarray\",\"array\":{\"type\":\"bytes\",\"data\":\"Qh2U6IytdUDR/At3Q8N3QA==\"},\"shape\":[2],\"dtype\":\"float64\",\"order\":\"little\"}],[2943,{\"type\":\"ndarray\",\"array\":{\"type\":\"bytes\",\"data\":\"LWLN+xKAeMDsTtQADF9vQA==\"},\"shape\":[2],\"dtype\":\"float64\",\"order\":\"little\"}],[2944,{\"type\":\"ndarray\",\"array\":{\"type\":\"bytes\",\"data\":\"5tsw+KVTfUDetozpxpNTQA==\"},\"shape\":[2],\"dtype\":\"float64\",\"order\":\"little\"}],[2945,{\"type\":\"ndarray\",\"array\":{\"type\":\"bytes\",\"data\":\"pxC2h9zsYkDpCbnQOyp7wA==\"},\"shape\":[2],\"dtype\":\"float64\",\"order\":\"little\"}],[2946,{\"type\":\"ndarray\",\"array\":{\"type\":\"bytes\",\"data\":\"LoxqvNAAbsDwp0PbvfF7QA==\"},\"shape\":[2],\"dtype\":\"float64\",\"order\":\"little\"}],[2947,{\"type\":\"ndarray\",\"array\":{\"type\":\"bytes\",\"data\":\"EqVKKIzyfUDk9ij3vzRbQA==\"},\"shape\":[2],\"dtype\":\"float64\",\"order\":\"little\"}],[2948,{\"type\":\"ndarray\",\"array\":{\"type\":\"bytes\",\"data\":\"kSXPoyjhcsBr4SAwXSR1wA==\"},\"shape\":[2],\"dtype\":\"float64\",\"order\":\"little\"}],[2949,{\"type\":\"ndarray\",\"array\":{\"type\":\"bytes\",\"data\":\"6JdUI+AlZUApYxDNlhJ9QA==\"},\"shape\":[2],\"dtype\":\"float64\",\"order\":\"little\"}],[2950,{\"type\":\"ndarray\",\"array\":{\"type\":\"bytes\",\"data\":\"UT9WBqwId0BEyudTVRZ1QA==\"},\"shape\":[2],\"dtype\":\"float64\",\"order\":\"little\"}],[2951,{\"type\":\"ndarray\",\"array\":{\"type\":\"bytes\",\"data\":\"3kNyjScvYkCBEb2TY3d9wA==\"},\"shape\":[2],\"dtype\":\"float64\",\"order\":\"little\"}],[2952,{\"type\":\"ndarray\",\"array\":{\"type\":\"bytes\",\"data\":\"Qo/zQ8bOYsAzbuhOjKV9QA==\"},\"shape\":[2],\"dtype\":\"float64\",\"order\":\"little\"}],[2953,{\"type\":\"ndarray\",\"array\":{\"type\":\"bytes\",\"data\":\"gAtbMVnsVUC7UZBjE/1+wA==\"},\"shape\":[2],\"dtype\":\"float64\",\"order\":\"little\"}],[2954,{\"type\":\"ndarray\",\"array\":{\"type\":\"bytes\",\"data\":\"KTM2BoInfcDExjCvEx5iQA==\"},\"shape\":[2],\"dtype\":\"float64\",\"order\":\"little\"}],[2955,{\"type\":\"ndarray\",\"array\":{\"type\":\"bytes\",\"data\":\"BKZlnExrfMAglAyXh5BuwA==\"},\"shape\":[2],\"dtype\":\"float64\",\"order\":\"little\"}],[2956,{\"type\":\"ndarray\",\"array\":{\"type\":\"bytes\",\"data\":\"PnfLrBmMSECznZ9Z5Bp8QA==\"},\"shape\":[2],\"dtype\":\"float64\",\"order\":\"little\"}],[2957,{\"type\":\"ndarray\",\"array\":{\"type\":\"bytes\",\"data\":\"3cJPCUH/ckBM2qBmlod2wA==\"},\"shape\":[2],\"dtype\":\"float64\",\"order\":\"little\"}],[2958,{\"type\":\"ndarray\",\"array\":{\"type\":\"bytes\",\"data\":\"zq1Mj3oBdkA1ZugGnQZ0wA==\"},\"shape\":[2],\"dtype\":\"float64\",\"order\":\"little\"}],[2959,{\"type\":\"ndarray\",\"array\":{\"type\":\"bytes\",\"data\":\"GSvfXaS9YMCIBK1wV+h7QA==\"},\"shape\":[2],\"dtype\":\"float64\",\"order\":\"little\"}],[2960,{\"type\":\"ndarray\",\"array\":{\"type\":\"bytes\",\"data\":\"Q7mvaaQkYEB/U0ViIw59QA==\"},\"shape\":[2],\"dtype\":\"float64\",\"order\":\"little\"}],[2961,{\"type\":\"ndarray\",\"array\":{\"type\":\"bytes\",\"data\":\"th7SAMEqakBbNbhMEDt4QA==\"},\"shape\":[2],\"dtype\":\"float64\",\"order\":\"little\"}],[2962,{\"type\":\"ndarray\",\"array\":{\"type\":\"bytes\",\"data\":\"BYxMAK8HfsA1WajUSjhUwA==\"},\"shape\":[2],\"dtype\":\"float64\",\"order\":\"little\"}],[2963,{\"type\":\"ndarray\",\"array\":{\"type\":\"bytes\",\"data\":\"e+hYcWYTdsDELcUKysdzwA==\"},\"shape\":[2],\"dtype\":\"float64\",\"order\":\"little\"}],[2964,{\"type\":\"ndarray\",\"array\":{\"type\":\"bytes\",\"data\":\"AAAAAABAf0ABA5m9I6ZEwA==\"},\"shape\":[2],\"dtype\":\"float64\",\"order\":\"little\"}],[2965,{\"type\":\"ndarray\",\"array\":{\"type\":\"bytes\",\"data\":\"jI4BJu9mfECQVhSwL7tmQA==\"},\"shape\":[2],\"dtype\":\"float64\",\"order\":\"little\"}],[2966,{\"type\":\"ndarray\",\"array\":{\"type\":\"bytes\",\"data\":\"954LZBtofUDisXj5JBE2QA==\"},\"shape\":[2],\"dtype\":\"float64\",\"order\":\"little\"}],[2967,{\"type\":\"ndarray\",\"array\":{\"type\":\"bytes\",\"data\":\"aeiwL81ibkAvwgfp3ctzQA==\"},\"shape\":[2],\"dtype\":\"float64\",\"order\":\"little\"}],[2968,{\"type\":\"ndarray\",\"array\":{\"type\":\"bytes\",\"data\":\"ywGaev4vdsDqrMo8HS50QA==\"},\"shape\":[2],\"dtype\":\"float64\",\"order\":\"little\"}],[2969,{\"type\":\"ndarray\",\"array\":{\"type\":\"bytes\",\"data\":\"Et2GuVQRYcDm5Es6pl5+wA==\"},\"shape\":[2],\"dtype\":\"float64\",\"order\":\"little\"}],[2970,{\"type\":\"ndarray\",\"array\":{\"type\":\"bytes\",\"data\":\"26kcut7abUCNHIhABOl5wA==\"},\"shape\":[2],\"dtype\":\"float64\",\"order\":\"little\"}],[2971,{\"type\":\"ndarray\",\"array\":{\"type\":\"bytes\",\"data\":\"NV/rfU5qc0BTiSS8Gmt6QA==\"},\"shape\":[2],\"dtype\":\"float64\",\"order\":\"little\"}],[2972,{\"type\":\"ndarray\",\"array\":{\"type\":\"bytes\",\"data\":\"yB10QEh2fkCwLs4vUGtTwA==\"},\"shape\":[2],\"dtype\":\"float64\",\"order\":\"little\"}],[2973,{\"type\":\"ndarray\",\"array\":{\"type\":\"bytes\",\"data\":\"hf/fIj7jd8DbM3qz9XN2QA==\"},\"shape\":[2],\"dtype\":\"float64\",\"order\":\"little\"}],[2974,{\"type\":\"ndarray\",\"array\":{\"type\":\"bytes\",\"data\":\"PTNLB7avOMBYHyjvlgl/QA==\"},\"shape\":[2],\"dtype\":\"float64\",\"order\":\"little\"}],[2975,{\"type\":\"ndarray\",\"array\":{\"type\":\"bytes\",\"data\":\"IsIKP5tqeUCy/9+4sQ90QA==\"},\"shape\":[2],\"dtype\":\"float64\",\"order\":\"little\"}],[2976,{\"type\":\"ndarray\",\"array\":{\"type\":\"bytes\",\"data\":\"KgE+XSTPe8DaHS1Dq8pQwA==\"},\"shape\":[2],\"dtype\":\"float64\",\"order\":\"little\"}]]}}},\"node_renderer\":{\"type\":\"object\",\"name\":\"GlyphRenderer\",\"id\":\"p1230\",\"attributes\":{\"data_source\":{\"type\":\"object\",\"name\":\"ColumnDataSource\",\"id\":\"p1227\",\"attributes\":{\"selected\":{\"type\":\"object\",\"name\":\"Selection\",\"id\":\"p1228\",\"attributes\":{\"indices\":[],\"line_indices\":[]}},\"selection_policy\":{\"type\":\"object\",\"name\":\"UnionRenderers\",\"id\":\"p1229\"},\"data\":{\"type\":\"map\",\"entries\":[[\"index\",[2851,2852,2853,2854,2855,2856,2857,2858,2859,2860,2861,2862,2863,2864,2865,2866,2867,2868,2869,2870,2871,2872,2873,2874,2875,2876,2877,2878,2879,2880,2881,2882,2883,2884,2885,2886,2887,2888,2889,2890,2891,2892,2893,2894,2895,2896,2897,2898,2899,2900,2901,2902,2903,2904,2905,2906,2907,2908,2909,2910,2911,2912,2913,2914,2915,2916,2917,2918,2919,2920,2921,2922,2923,2924,2925,2926,2927,2928,2929,2930,2931,2932,2933,2934,2935,2936,2937,2938,2939,2940,2941,2942,2943,2944,2945,2946,2947,2948,2949,2950,2951,2952,2953,2954,2955,2956,2957,2958,2959,2960,2961,2962,2963,2964,2965,2966,2967,2968,2969,2970,2971,2972,2973,2974,2975,2976]],[\"x\",[-69.07225817336273,371.03171760760006,-341.5964024430638,-446.65756023964695,112.54694168937637,-343.76118345109694,387.8202793098974,-390.33589698940085,-442.1663166207257,-18.63962656639083,29.742765148984976,-412.4009570828695,0.5493706869660541,-455.5135295964139,26.266102464169155,107.06849499036736,-287.7349315730975,459.8692941445977,-236.7319195814506,410.12658288466383,-479.5438901174559,-431.2735052941146,-270.4491179984999,-305.7818994834354,59.570579195728776,483.97052169919994,34.682620281061126,38.08489435185358,-422.09648380484634,-481.75678090131487,-191.43372323243184,457.3393997842865,-419.6080909682572,-315.62018610634,-199.31823673357675,287.7288119609449,-478.28331077369535,286.3567019857154,263.30180811470547,-11.844869097295689,422.6916691493493,-54.449088617229826,-386.11860511790815,326.47667219282044,486.48739302535483,-442.52133751510934,446.85328117400957,455.8546821416209,229.84827163637814,-387.94999137320895,-486.99254718609484,21.91091337351412,464.8203784891473,-88.90785837104285,-288.9807057139039,-302.43746657257714,425.4967635283597,82.78968085279311,331.94453757308975,485.2425242654182,226.25231332307703,-168.59744715020997,-446.3295643944859,266.54412391689254,-498.664555228813,-125.09584835855856,-456.9359191089124,485.05955321061003,-43.233329166025484,-85.21733558864545,460.26475389703444,17.66519698331845,-208.48204648642044,438.4221086863484,-458.08819918328527,415.5116310169514,-474.44515905152883,445.3190034483078,189.0874537546339,-225.9699550368506,-174.91993910320915,396.18802177085735,-397.06295083292133,-255.9307342634598,-491.3477179226606,193.0130542057832,-53.35588915970853,203.14173106764707,384.3352010443927,374.1289273510005,-93.7331498046193,346.8469014917101,-392.0046346686166,469.22801989636935,151.40192018088894,-240.02548046884607,479.1592181125462,-302.07242184559533,169.183610596868,368.54199823084224,145.47357818906215,-150.4617023236297,87.69294389620882,-466.46924420520605,-454.7062038393635,49.09453353819707,303.9533780208274,352.0924218173285,-133.92631429278916,129.14506992646247,209.33605996169143,-480.4802248945346,-353.21251044015634,500.0,454.43338585479864,470.5066872075981,243.0875471549255,-354.9996286407374,-136.54159237232722,238.83968835447635,310.6441630548682,487.3926395927233,-382.2026699781348,-24.686371284350788,406.66290191843484,-444.94637798519636]],[\"y\",[13.854178282053972,275.06331893106807,-363.356867031502,246.66642776078268,443.7413182244611,401.67830990930787,-306.72371350383,-298.5664567407425,43.61819894128736,-19.92445075084788,-35.74162648496826,-198.6166085668344,466.6388525555261,100.28179469409243,-495.03294007007247,-465.20887453856056,432.6975312875011,228.9308008124133,-431.7256064264183,-194.05475797463973,17.816278919490415,288.9678568607286,375.73347117229173,298.9530303345245,-469.1742617180945,159.8597715939286,-11.30010688943963,489.09696505056644,-272.28253323260543,-124.07664571040571,-419.18515945571755,-148.0876626097605,171.96627277059324,380.39319947710294,479.1472442686397,-394.41361301545663,182.8782867164854,375.2324099577876,-430.80904165875626,-481.39281379991206,235.76888247044468,-491.2170232325811,-248.7014818216603,329.92365336204494,-8.668792035407634,209.2661664278718,133.28370989234276,-96.25563629805211,-362.0445238947552,-346.10023335538267,103.6054555473418,49.44681757841493,-179.423604207948,455.1532476326834,-409.85954074041257,-376.942559895811,279.0890292807665,477.12030109995,-365.7459845974013,49.21835938242331,448.06018172407965,-459.68517565203535,-127.23343160010761,422.0153783185928,-15.107960134354162,-449.83687257217986,-164.52708188792118,-123.68823924454173,449.72211874381793,492.6761656882908,-216.1794225541345,-445.623089678168,-458.11450307545135,-29.529240013124674,-201.16421782295566,-280.58674204345164,-36.68982970657839,-253.9756260373378,431.90946199153336,414.38780217464466,410.72333622286817,193.19384243126729,312.2760106060503,-403.9918782663753,56.46422690089282,-467.8983959333242,-460.2803620979613,-434.484067189796,-250.42717456401675,-354.60794328669147,-477.7727335071045,380.2039709537758,250.970215239205,78.30901564351686,-434.63960335045573,447.10885168483856,108.82421664238387,-338.27275097698174,465.1618166580325,337.3958319715787,-471.4618108163341,474.34675493996764,-495.81723362326346,144.93990287329336,-244.51655151802788,449.68074953413014,-360.47421896775336,-320.41333666592556,446.5213476904396,464.88363864021807,387.6914794154779,-80.879567303088,-316.48682667754133,-41.29796571704174,181.84957126591007,22.06697043606426,316.7416773131435,322.88213805360886,-485.91558293958803,-414.5635381047112,422.69402708313027,-77.67676921019552,359.24748561606765,496.59934917137934,320.9808892011598,-67.16670302778167]],[\"depth\",[0,1,1,1,1,1,1,1,1,1,1,1,1,1,1,1,1,1,1,1,1,1,1,1,1,1,2,2,2,2,2,2,2,2,2,2,2,2,2,2,2,2,2,2,2,2,2,2,2,2,2,2,2,2,2,2,2,2,2,2,2,2,2,2,2,2,2,2,2,2,2,2,2,2,2,2,3,3,3,3,3,3,3,3,3,3,3,3,3,3,3,3,3,3,3,3,3,3,3,3,3,3,3,3,3,3,3,3,3,3,3,3,3,3,3,3,3,3,3,3,3,3,3,3,3,3]],[\"visits\",[5,0,0,0,0,0,0,0,0,2,2,0,0,0,0,0,0,0,0,0,0,0,0,0,0,0,1,0,0,0,0,0,0,0,0,0,0,0,0,0,0,0,0,0,0,0,0,0,0,0,0,1,0,0,0,0,0,0,0,0,0,0,0,0,0,0,0,0,0,0,0,0,0,0,0,0,0,0,0,0,0,0,0,0,0,0,0,0,0,0,0,0,0,0,0,0,0,0,0,0,0,0,0,0,0,0,0,0,0,0,0,0,0,0,0,0,0,0,0,0,0,0,0,0,0,0]],[\"score\",[null,{\"type\":\"number\",\"value\":\"-inf\"},{\"type\":\"number\",\"value\":\"-inf\"},{\"type\":\"number\",\"value\":\"-inf\"},{\"type\":\"number\",\"value\":\"-inf\"},{\"type\":\"number\",\"value\":\"-inf\"},{\"type\":\"number\",\"value\":\"-inf\"},{\"type\":\"number\",\"value\":\"-inf\"},{\"type\":\"number\",\"value\":\"-inf\"},2.157525130068408,2.157525130068408,{\"type\":\"number\",\"value\":\"-inf\"},{\"type\":\"number\",\"value\":\"-inf\"},{\"type\":\"number\",\"value\":\"-inf\"},{\"type\":\"number\",\"value\":\"-inf\"},{\"type\":\"number\",\"value\":\"-inf\"},{\"type\":\"number\",\"value\":\"-inf\"},{\"type\":\"number\",\"value\":\"-inf\"},{\"type\":\"number\",\"value\":\"-inf\"},{\"type\":\"number\",\"value\":\"-inf\"},{\"type\":\"number\",\"value\":\"-inf\"},{\"type\":\"number\",\"value\":\"-inf\"},{\"type\":\"number\",\"value\":\"-inf\"},{\"type\":\"number\",\"value\":\"-inf\"},{\"type\":\"number\",\"value\":\"-inf\"},{\"type\":\"number\",\"value\":\"-inf\"},2.0662989114043633,{\"type\":\"number\",\"value\":\"-inf\"},{\"type\":\"number\",\"value\":\"-inf\"},{\"type\":\"number\",\"value\":\"-inf\"},{\"type\":\"number\",\"value\":\"-inf\"},{\"type\":\"number\",\"value\":\"-inf\"},{\"type\":\"number\",\"value\":\"-inf\"},{\"type\":\"number\",\"value\":\"-inf\"},{\"type\":\"number\",\"value\":\"-inf\"},{\"type\":\"number\",\"value\":\"-inf\"},{\"type\":\"number\",\"value\":\"-inf\"},{\"type\":\"number\",\"value\":\"-inf\"},{\"type\":\"number\",\"value\":\"-inf\"},{\"type\":\"number\",\"value\":\"-inf\"},{\"type\":\"number\",\"value\":\"-inf\"},{\"type\":\"number\",\"value\":\"-inf\"},{\"type\":\"number\",\"value\":\"-inf\"},{\"type\":\"number\",\"value\":\"-inf\"},{\"type\":\"number\",\"value\":\"-inf\"},{\"type\":\"number\",\"value\":\"-inf\"},{\"type\":\"number\",\"value\":\"-inf\"},{\"type\":\"number\",\"value\":\"-inf\"},{\"type\":\"number\",\"value\":\"-inf\"},{\"type\":\"number\",\"value\":\"-inf\"},{\"type\":\"number\",\"value\":\"-inf\"},{\"type\":\"number\",\"value\":\"+inf\"},{\"type\":\"number\",\"value\":\"-inf\"},{\"type\":\"number\",\"value\":\"-inf\"},{\"type\":\"number\",\"value\":\"-inf\"},{\"type\":\"number\",\"value\":\"-inf\"},{\"type\":\"number\",\"value\":\"-inf\"},{\"type\":\"number\",\"value\":\"-inf\"},{\"type\":\"number\",\"value\":\"-inf\"},{\"type\":\"number\",\"value\":\"-inf\"},{\"type\":\"number\",\"value\":\"-inf\"},{\"type\":\"number\",\"value\":\"-inf\"},{\"type\":\"number\",\"value\":\"-inf\"},{\"type\":\"number\",\"value\":\"-inf\"},{\"type\":\"number\",\"value\":\"-inf\"},{\"type\":\"number\",\"value\":\"-inf\"},{\"type\":\"number\",\"value\":\"-inf\"},{\"type\":\"number\",\"value\":\"-inf\"},{\"type\":\"number\",\"value\":\"-inf\"},{\"type\":\"number\",\"value\":\"-inf\"},{\"type\":\"number\",\"value\":\"-inf\"},{\"type\":\"number\",\"value\":\"-inf\"},{\"type\":\"number\",\"value\":\"-inf\"},{\"type\":\"number\",\"value\":\"-inf\"},{\"type\":\"number\",\"value\":\"-inf\"},{\"type\":\"number\",\"value\":\"-inf\"},{\"type\":\"number\",\"value\":\"-inf\"},{\"type\":\"number\",\"value\":\"-inf\"},{\"type\":\"number\",\"value\":\"-inf\"},{\"type\":\"number\",\"value\":\"-inf\"},{\"type\":\"number\",\"value\":\"-inf\"},{\"type\":\"number\",\"value\":\"-inf\"},{\"type\":\"number\",\"value\":\"-inf\"},{\"type\":\"number\",\"value\":\"-inf\"},{\"type\":\"number\",\"value\":\"-inf\"},{\"type\":\"number\",\"value\":\"-inf\"},{\"type\":\"number\",\"value\":\"-inf\"},{\"type\":\"number\",\"value\":\"-inf\"},{\"type\":\"number\",\"value\":\"-inf\"},{\"type\":\"number\",\"value\":\"-inf\"},{\"type\":\"number\",\"value\":\"-inf\"},{\"type\":\"number\",\"value\":\"-inf\"},{\"type\":\"number\",\"value\":\"-inf\"},{\"type\":\"number\",\"value\":\"-inf\"},{\"type\":\"number\",\"value\":\"-inf\"},{\"type\":\"number\",\"value\":\"-inf\"},{\"type\":\"number\",\"value\":\"-inf\"},{\"type\":\"number\",\"value\":\"-inf\"},{\"type\":\"number\",\"value\":\"-inf\"},{\"type\":\"number\",\"value\":\"-inf\"},{\"type\":\"number\",\"value\":\"-inf\"},null,null,null,null,null,null,null,null,null,null,null,null,null,null,null,null,null,null,null,null,null,null,null,null,null]],[\"expand\",[true,false,false,false,false,false,false,false,false,true,true,false,false,false,false,false,false,false,false,false,false,false,false,false,false,false,true,false,false,false,false,false,false,false,false,false,false,false,false,false,false,false,false,false,false,false,false,false,false,false,false,true,false,false,false,false,false,false,false,false,false,false,false,false,false,false,false,false,false,false,false,false,false,false,false,false,false,false,false,false,false,false,false,false,false,false,false,false,false,false,false,false,false,false,false,false,false,false,false,false,false,false,false,false,false,false,false,false,false,false,false,false,false,false,false,false,false,false,false,false,false,false,false,false,false,false]]]}}},\"view\":{\"type\":\"object\",\"name\":\"CDSView\",\"id\":\"p1231\",\"attributes\":{\"filter\":{\"type\":\"object\",\"name\":\"AllIndices\",\"id\":\"p1232\"}}},\"glyph\":{\"type\":\"object\",\"name\":\"Circle\",\"id\":\"p1246\",\"attributes\":{\"radius\":{\"type\":\"value\",\"value\":4},\"line_color\":{\"type\":\"value\",\"value\":null},\"fill_color\":{\"type\":\"field\",\"field\":\"depth\",\"transform\":{\"type\":\"object\",\"name\":\"LinearColorMapper\",\"id\":\"p1245\",\"attributes\":{\"palette\":[\"#440154\",\"#440255\",\"#440357\",\"#450558\",\"#45065A\",\"#45085B\",\"#46095C\",\"#460B5E\",\"#460C5F\",\"#460E61\",\"#470F62\",\"#471163\",\"#471265\",\"#471466\",\"#471567\",\"#471669\",\"#47186A\",\"#48196B\",\"#481A6C\",\"#481C6E\",\"#481D6F\",\"#481E70\",\"#482071\",\"#482172\",\"#482273\",\"#482374\",\"#472575\",\"#472676\",\"#472777\",\"#472878\",\"#472A79\",\"#472B7A\",\"#472C7B\",\"#462D7C\",\"#462F7C\",\"#46307D\",\"#46317E\",\"#45327F\",\"#45347F\",\"#453580\",\"#453681\",\"#443781\",\"#443982\",\"#433A83\",\"#433B83\",\"#433C84\",\"#423D84\",\"#423E85\",\"#424085\",\"#414186\",\"#414286\",\"#404387\",\"#404487\",\"#3F4587\",\"#3F4788\",\"#3E4888\",\"#3E4989\",\"#3D4A89\",\"#3D4B89\",\"#3D4C89\",\"#3C4D8A\",\"#3C4E8A\",\"#3B508A\",\"#3B518A\",\"#3A528B\",\"#3A538B\",\"#39548B\",\"#39558B\",\"#38568B\",\"#38578C\",\"#37588C\",\"#37598C\",\"#365A8C\",\"#365B8C\",\"#355C8C\",\"#355D8C\",\"#345E8D\",\"#345F8D\",\"#33608D\",\"#33618D\",\"#32628D\",\"#32638D\",\"#31648D\",\"#31658D\",\"#31668D\",\"#30678D\",\"#30688D\",\"#2F698D\",\"#2F6A8D\",\"#2E6B8E\",\"#2E6C8E\",\"#2E6D8E\",\"#2D6E8E\",\"#2D6F8E\",\"#2C708E\",\"#2C718E\",\"#2C728E\",\"#2B738E\",\"#2B748E\",\"#2A758E\",\"#2A768E\",\"#2A778E\",\"#29788E\",\"#29798E\",\"#287A8E\",\"#287A8E\",\"#287B8E\",\"#277C8E\",\"#277D8E\",\"#277E8E\",\"#267F8E\",\"#26808E\",\"#26818E\",\"#25828E\",\"#25838D\",\"#24848D\",\"#24858D\",\"#24868D\",\"#23878D\",\"#23888D\",\"#23898D\",\"#22898D\",\"#228A8D\",\"#228B8D\",\"#218C8D\",\"#218D8C\",\"#218E8C\",\"#208F8C\",\"#20908C\",\"#20918C\",\"#1F928C\",\"#1F938B\",\"#1F948B\",\"#1F958B\",\"#1F968B\",\"#1E978A\",\"#1E988A\",\"#1E998A\",\"#1E998A\",\"#1E9A89\",\"#1E9B89\",\"#1E9C89\",\"#1E9D88\",\"#1E9E88\",\"#1E9F88\",\"#1EA087\",\"#1FA187\",\"#1FA286\",\"#1FA386\",\"#20A485\",\"#20A585\",\"#21A685\",\"#21A784\",\"#22A784\",\"#23A883\",\"#23A982\",\"#24AA82\",\"#25AB81\",\"#26AC81\",\"#27AD80\",\"#28AE7F\",\"#29AF7F\",\"#2AB07E\",\"#2BB17D\",\"#2CB17D\",\"#2EB27C\",\"#2FB37B\",\"#30B47A\",\"#32B57A\",\"#33B679\",\"#35B778\",\"#36B877\",\"#38B976\",\"#39B976\",\"#3BBA75\",\"#3DBB74\",\"#3EBC73\",\"#40BD72\",\"#42BE71\",\"#44BE70\",\"#45BF6F\",\"#47C06E\",\"#49C16D\",\"#4BC26C\",\"#4DC26B\",\"#4FC369\",\"#51C468\",\"#53C567\",\"#55C666\",\"#57C665\",\"#59C764\",\"#5BC862\",\"#5EC961\",\"#60C960\",\"#62CA5F\",\"#64CB5D\",\"#67CC5C\",\"#69CC5B\",\"#6BCD59\",\"#6DCE58\",\"#70CE56\",\"#72CF55\",\"#74D054\",\"#77D052\",\"#79D151\",\"#7CD24F\",\"#7ED24E\",\"#81D34C\",\"#83D34B\",\"#86D449\",\"#88D547\",\"#8BD546\",\"#8DD644\",\"#90D643\",\"#92D741\",\"#95D73F\",\"#97D83E\",\"#9AD83C\",\"#9DD93A\",\"#9FD938\",\"#A2DA37\",\"#A5DA35\",\"#A7DB33\",\"#AADB32\",\"#ADDC30\",\"#AFDC2E\",\"#B2DD2C\",\"#B5DD2B\",\"#B7DD29\",\"#BADE27\",\"#BDDE26\",\"#BFDF24\",\"#C2DF22\",\"#C5DF21\",\"#C7E01F\",\"#CAE01E\",\"#CDE01D\",\"#CFE11C\",\"#D2E11B\",\"#D4E11A\",\"#D7E219\",\"#DAE218\",\"#DCE218\",\"#DFE318\",\"#E1E318\",\"#E4E318\",\"#E7E419\",\"#E9E419\",\"#ECE41A\",\"#EEE51B\",\"#F1E51C\",\"#F3E51E\",\"#F6E61F\",\"#F8E621\",\"#FAE622\",\"#FDE724\"],\"low\":0,\"high\":3}}}}}}},\"edge_renderer\":{\"type\":\"object\",\"name\":\"GlyphRenderer\",\"id\":\"p1237\",\"attributes\":{\"data_source\":{\"type\":\"object\",\"name\":\"ColumnDataSource\",\"id\":\"p1234\",\"attributes\":{\"selected\":{\"type\":\"object\",\"name\":\"Selection\",\"id\":\"p1235\",\"attributes\":{\"indices\":[],\"line_indices\":[]}},\"selection_policy\":{\"type\":\"object\",\"name\":\"UnionRenderers\",\"id\":\"p1236\"},\"data\":{\"type\":\"map\",\"entries\":[[\"start\",[2851,2851,2851,2851,2851,2851,2851,2851,2851,2851,2851,2851,2851,2851,2851,2851,2851,2851,2851,2851,2851,2851,2851,2851,2851,2860,2860,2860,2860,2860,2860,2860,2860,2860,2860,2860,2860,2860,2860,2860,2860,2860,2860,2860,2860,2860,2860,2860,2860,2860,2861,2861,2861,2861,2861,2861,2861,2861,2861,2861,2861,2861,2861,2861,2861,2861,2861,2861,2861,2861,2861,2861,2861,2861,2861,2877,2877,2877,2877,2877,2877,2877,2877,2877,2877,2877,2877,2877,2877,2877,2877,2877,2877,2877,2877,2877,2877,2877,2877,2877,2902,2902,2902,2902,2902,2902,2902,2902,2902,2902,2902,2902,2902,2902,2902,2902,2902,2902,2902,2902,2902,2902,2902,2902,2902]],[\"end\",[2852,2853,2854,2855,2856,2857,2858,2859,2860,2861,2862,2863,2864,2865,2866,2867,2868,2869,2870,2871,2872,2873,2874,2875,2876,2877,2878,2879,2880,2881,2882,2883,2884,2885,2886,2887,2888,2889,2890,2891,2892,2893,2894,2895,2896,2897,2898,2899,2900,2901,2902,2903,2904,2905,2906,2907,2908,2909,2910,2911,2912,2913,2914,2915,2916,2917,2918,2919,2920,2921,2922,2923,2924,2925,2926,2927,2928,2929,2930,2931,2932,2933,2934,2935,2936,2937,2938,2939,2940,2941,2942,2943,2944,2945,2946,2947,2948,2949,2950,2951,2952,2953,2954,2955,2956,2957,2958,2959,2960,2961,2962,2963,2964,2965,2966,2967,2968,2969,2970,2971,2972,2973,2974,2975,2976]]]}}},\"view\":{\"type\":\"object\",\"name\":\"CDSView\",\"id\":\"p1238\",\"attributes\":{\"filter\":{\"type\":\"object\",\"name\":\"AllIndices\",\"id\":\"p1239\"}}},\"glyph\":{\"type\":\"object\",\"name\":\"MultiLine\",\"id\":\"p1247\",\"attributes\":{\"line_color\":{\"type\":\"value\",\"value\":\"gray\"}}}}},\"selection_policy\":{\"type\":\"object\",\"name\":\"NodesOnly\",\"id\":\"p1240\"},\"inspection_policy\":{\"type\":\"object\",\"name\":\"NodesOnly\",\"id\":\"p1241\"}}}],\"toolbar\":{\"type\":\"object\",\"name\":\"Toolbar\",\"id\":\"p1197\",\"attributes\":{\"tools\":[{\"type\":\"object\",\"name\":\"PanTool\",\"id\":\"p1212\"},{\"type\":\"object\",\"name\":\"WheelZoomTool\",\"id\":\"p1213\",\"attributes\":{\"renderers\":\"auto\"}},{\"type\":\"object\",\"name\":\"BoxZoomTool\",\"id\":\"p1214\",\"attributes\":{\"overlay\":{\"type\":\"object\",\"name\":\"BoxAnnotation\",\"id\":\"p1215\",\"attributes\":{\"syncable\":false,\"line_color\":\"black\",\"line_alpha\":1.0,\"line_width\":2,\"line_dash\":[4,4],\"fill_color\":\"lightgrey\",\"fill_alpha\":0.5,\"level\":\"overlay\",\"visible\":false,\"left\":{\"type\":\"number\",\"value\":\"nan\"},\"right\":{\"type\":\"number\",\"value\":\"nan\"},\"top\":{\"type\":\"number\",\"value\":\"nan\"},\"bottom\":{\"type\":\"number\",\"value\":\"nan\"},\"left_units\":\"canvas\",\"right_units\":\"canvas\",\"top_units\":\"canvas\",\"bottom_units\":\"canvas\",\"handles\":{\"type\":\"object\",\"name\":\"BoxInteractionHandles\",\"id\":\"p1221\",\"attributes\":{\"all\":{\"type\":\"object\",\"name\":\"AreaVisuals\",\"id\":\"p1220\",\"attributes\":{\"fill_color\":\"white\",\"hover_fill_color\":\"lightgray\"}}}}}}}},{\"type\":\"object\",\"name\":\"ResetTool\",\"id\":\"p1222\"},{\"type\":\"object\",\"name\":\"SaveTool\",\"id\":\"p1223\"},{\"type\":\"object\",\"name\":\"HoverTool\",\"id\":\"p1224\",\"attributes\":{\"renderers\":\"auto\",\"tooltips\":[[\"Node\",\"@index\"],[\"Depth\",\"@depth\"],[\"Visits\",\"@visits\"],[\"Value\",\"@value\"],[\"Selection score\",\"@score\"],[\"Expand\",\"@expand\"]]}}]}},\"left\":[{\"type\":\"object\",\"name\":\"LinearAxis\",\"id\":\"p1207\",\"attributes\":{\"ticker\":{\"type\":\"object\",\"name\":\"BasicTicker\",\"id\":\"p1208\",\"attributes\":{\"mantissas\":[1,2,5]}},\"formatter\":{\"type\":\"object\",\"name\":\"BasicTickFormatter\",\"id\":\"p1209\"},\"axis_label_standoff\":10,\"axis_label_text_color\":\"#5B5B5B\",\"axis_label_text_font\":\"Helvetica\",\"axis_label_text_font_size\":\"1.25em\",\"axis_label_text_font_style\":\"normal\",\"major_label_policy\":{\"type\":\"object\",\"name\":\"AllLabels\",\"id\":\"p1210\"},\"major_label_text_color\":\"#5B5B5B\",\"major_label_text_font\":\"Helvetica\",\"major_label_text_font_size\":\"1.025em\",\"axis_line_color\":\"#5B5B5B\",\"axis_line_alpha\":0,\"major_tick_line_color\":\"#5B5B5B\",\"major_tick_line_alpha\":0,\"minor_tick_line_color\":\"#5B5B5B\",\"minor_tick_line_alpha\":0}}],\"right\":[{\"type\":\"object\",\"name\":\"ColorBar\",\"id\":\"p1243\",\"attributes\":{\"location\":[0,0],\"title\":\"Depth\",\"title_text_color\":\"#5B5B5B\",\"title_text_font\":\"Helvetica\",\"title_text_font_size\":\"1.025em\",\"title_text_font_style\":\"normal\",\"major_label_policy\":{\"type\":\"object\",\"name\":\"NoOverlap\",\"id\":\"p1244\"},\"major_label_text_color\":\"#5B5B5B\",\"major_label_text_font\":\"Helvetica\",\"major_label_text_font_size\":\"1.025em\",\"major_tick_line_alpha\":0,\"bar_line_alpha\":0,\"color_mapper\":{\"type\":\"object\",\"name\":\"LinearColorMapper\",\"id\":\"p1242\",\"attributes\":{\"palette\":[\"#440154\",\"#440255\",\"#440357\",\"#450558\",\"#45065A\",\"#45085B\",\"#46095C\",\"#460B5E\",\"#460C5F\",\"#460E61\",\"#470F62\",\"#471163\",\"#471265\",\"#471466\",\"#471567\",\"#471669\",\"#47186A\",\"#48196B\",\"#481A6C\",\"#481C6E\",\"#481D6F\",\"#481E70\",\"#482071\",\"#482172\",\"#482273\",\"#482374\",\"#472575\",\"#472676\",\"#472777\",\"#472878\",\"#472A79\",\"#472B7A\",\"#472C7B\",\"#462D7C\",\"#462F7C\",\"#46307D\",\"#46317E\",\"#45327F\",\"#45347F\",\"#453580\",\"#453681\",\"#443781\",\"#443982\",\"#433A83\",\"#433B83\",\"#433C84\",\"#423D84\",\"#423E85\",\"#424085\",\"#414186\",\"#414286\",\"#404387\",\"#404487\",\"#3F4587\",\"#3F4788\",\"#3E4888\",\"#3E4989\",\"#3D4A89\",\"#3D4B89\",\"#3D4C89\",\"#3C4D8A\",\"#3C4E8A\",\"#3B508A\",\"#3B518A\",\"#3A528B\",\"#3A538B\",\"#39548B\",\"#39558B\",\"#38568B\",\"#38578C\",\"#37588C\",\"#37598C\",\"#365A8C\",\"#365B8C\",\"#355C8C\",\"#355D8C\",\"#345E8D\",\"#345F8D\",\"#33608D\",\"#33618D\",\"#32628D\",\"#32638D\",\"#31648D\",\"#31658D\",\"#31668D\",\"#30678D\",\"#30688D\",\"#2F698D\",\"#2F6A8D\",\"#2E6B8E\",\"#2E6C8E\",\"#2E6D8E\",\"#2D6E8E\",\"#2D6F8E\",\"#2C708E\",\"#2C718E\",\"#2C728E\",\"#2B738E\",\"#2B748E\",\"#2A758E\",\"#2A768E\",\"#2A778E\",\"#29788E\",\"#29798E\",\"#287A8E\",\"#287A8E\",\"#287B8E\",\"#277C8E\",\"#277D8E\",\"#277E8E\",\"#267F8E\",\"#26808E\",\"#26818E\",\"#25828E\",\"#25838D\",\"#24848D\",\"#24858D\",\"#24868D\",\"#23878D\",\"#23888D\",\"#23898D\",\"#22898D\",\"#228A8D\",\"#228B8D\",\"#218C8D\",\"#218D8C\",\"#218E8C\",\"#208F8C\",\"#20908C\",\"#20918C\",\"#1F928C\",\"#1F938B\",\"#1F948B\",\"#1F958B\",\"#1F968B\",\"#1E978A\",\"#1E988A\",\"#1E998A\",\"#1E998A\",\"#1E9A89\",\"#1E9B89\",\"#1E9C89\",\"#1E9D88\",\"#1E9E88\",\"#1E9F88\",\"#1EA087\",\"#1FA187\",\"#1FA286\",\"#1FA386\",\"#20A485\",\"#20A585\",\"#21A685\",\"#21A784\",\"#22A784\",\"#23A883\",\"#23A982\",\"#24AA82\",\"#25AB81\",\"#26AC81\",\"#27AD80\",\"#28AE7F\",\"#29AF7F\",\"#2AB07E\",\"#2BB17D\",\"#2CB17D\",\"#2EB27C\",\"#2FB37B\",\"#30B47A\",\"#32B57A\",\"#33B679\",\"#35B778\",\"#36B877\",\"#38B976\",\"#39B976\",\"#3BBA75\",\"#3DBB74\",\"#3EBC73\",\"#40BD72\",\"#42BE71\",\"#44BE70\",\"#45BF6F\",\"#47C06E\",\"#49C16D\",\"#4BC26C\",\"#4DC26B\",\"#4FC369\",\"#51C468\",\"#53C567\",\"#55C666\",\"#57C665\",\"#59C764\",\"#5BC862\",\"#5EC961\",\"#60C960\",\"#62CA5F\",\"#64CB5D\",\"#67CC5C\",\"#69CC5B\",\"#6BCD59\",\"#6DCE58\",\"#70CE56\",\"#72CF55\",\"#74D054\",\"#77D052\",\"#79D151\",\"#7CD24F\",\"#7ED24E\",\"#81D34C\",\"#83D34B\",\"#86D449\",\"#88D547\",\"#8BD546\",\"#8DD644\",\"#90D643\",\"#92D741\",\"#95D73F\",\"#97D83E\",\"#9AD83C\",\"#9DD93A\",\"#9FD938\",\"#A2DA37\",\"#A5DA35\",\"#A7DB33\",\"#AADB32\",\"#ADDC30\",\"#AFDC2E\",\"#B2DD2C\",\"#B5DD2B\",\"#B7DD29\",\"#BADE27\",\"#BDDE26\",\"#BFDF24\",\"#C2DF22\",\"#C5DF21\",\"#C7E01F\",\"#CAE01E\",\"#CDE01D\",\"#CFE11C\",\"#D2E11B\",\"#D4E11A\",\"#D7E219\",\"#DAE218\",\"#DCE218\",\"#DFE318\",\"#E1E318\",\"#E4E318\",\"#E7E419\",\"#E9E419\",\"#ECE41A\",\"#EEE51B\",\"#F1E51C\",\"#F3E51E\",\"#F6E61F\",\"#F8E621\",\"#FAE622\",\"#FDE724\"],\"low\":0,\"high\":3}}}}],\"below\":[{\"type\":\"object\",\"name\":\"LinearAxis\",\"id\":\"p1202\",\"attributes\":{\"ticker\":{\"type\":\"object\",\"name\":\"BasicTicker\",\"id\":\"p1203\",\"attributes\":{\"mantissas\":[1,2,5]}},\"formatter\":{\"type\":\"object\",\"name\":\"BasicTickFormatter\",\"id\":\"p1204\"},\"axis_label_standoff\":10,\"axis_label_text_color\":\"#5B5B5B\",\"axis_label_text_font\":\"Helvetica\",\"axis_label_text_font_size\":\"1.25em\",\"axis_label_text_font_style\":\"normal\",\"major_label_policy\":{\"type\":\"object\",\"name\":\"AllLabels\",\"id\":\"p1205\"},\"major_label_text_color\":\"#5B5B5B\",\"major_label_text_font\":\"Helvetica\",\"major_label_text_font_size\":\"1.025em\",\"axis_line_color\":\"#5B5B5B\",\"axis_line_alpha\":0,\"major_tick_line_color\":\"#5B5B5B\",\"major_tick_line_alpha\":0,\"minor_tick_line_color\":\"#5B5B5B\",\"minor_tick_line_alpha\":0}}],\"center\":[{\"type\":\"object\",\"name\":\"Grid\",\"id\":\"p1206\",\"attributes\":{\"axis\":{\"id\":\"p1202\"}}},{\"type\":\"object\",\"name\":\"Grid\",\"id\":\"p1211\",\"attributes\":{\"dimension\":1,\"axis\":{\"id\":\"p1207\"}}}]}}]}};\n  const render_items = [{\"docid\":\"3a8bca10-b40c-4671-8517-df950fad4bcf\",\"roots\":{\"p1188\":\"d3f9d337-f7c9-4f47-bf46-ed9845bae24b\"},\"root_ids\":[\"p1188\"]}];\n  void root.Bokeh.embed.embed_items_notebook(docs_json, render_items);\n  }\n  if (root.Bokeh !== undefined) {\n    embed_document(root);\n  } else {\n    let attempts = 0;\n    const timer = setInterval(function(root) {\n      if (root.Bokeh !== undefined) {\n        clearInterval(timer);\n        embed_document(root);\n      } else {\n        attempts++;\n        if (attempts > 100) {\n          clearInterval(timer);\n          console.log(\"Bokeh: ERROR: Unable to run BokehJS code because BokehJS library is missing\");\n        }\n      }\n    }, 10, root)\n  }\n})(window);",
      "application/vnd.bokehjs_exec.v0+json": ""
     },
     "metadata": {
      "application/vnd.bokehjs_exec.v0+json": {
       "id": "p1188"
      }
     },
     "output_type": "display_data"
    }
   ],
   "execution_count": 11
  },
  {
   "metadata": {
    "ExecuteTime": {
     "end_time": "2025-03-11T18:02:58.974252Z",
     "start_time": "2025-03-11T18:02:58.968598Z"
    }
   },
   "cell_type": "code",
   "source": [
    "query_depth = 2\n",
    "query_node_id = 39\n",
    "\n",
    "for node in mcts.nodes:\n",
    "    if node.depth == query_depth and node.node_id == query_node_id:\n",
    "        print(node)"
   ],
   "id": "55b014db90063723",
   "outputs": [],
   "execution_count": 5
  },
  {
   "metadata": {
    "ExecuteTime": {
     "end_time": "2025-03-11T18:02:59.204698Z",
     "start_time": "2025-03-11T18:02:59.199510Z"
    }
   },
   "cell_type": "code",
   "source": [
    "for node in mcts.nodes:\n",
    "    if node.value != 0.0:\n",
    "        print(node)"
   ],
   "id": "73a4e2e55cb28490",
   "outputs": [
    {
     "name": "stdout",
     "output_type": "stream",
     "text": [
      "Node ID: 0, Depth: 0, PKS Design: No design, PKS Product: None\n",
      "Node ID: 109, Depth: 1, PKS Design: [[\"AT{'substrate': 'Methylmalonyl-CoA'}\", 'loading: True'], [\"AT{'substrate': 'Malonyl-CoA'}\", \"KR{'type': 'B'}\", 'DH{}', 'loading: False']], PKS Product: CCC=CC(=O)[S]\n",
      "Node ID: 121, Depth: 1, PKS Design: [[\"AT{'substrate': 'prop'}\", 'loading: True'], [\"AT{'substrate': 'Malonyl-CoA'}\", \"KR{'type': 'B'}\", 'DH{}', 'loading: False']], PKS Product: CCC=CC(=O)[S]\n",
      "Node ID: 571, Depth: 1, PKS Design: [[\"AT{'substrate': 'Malonyl-CoA'}\", 'loading: True'], [\"AT{'substrate': 'Malonyl-CoA'}\", \"KR{'type': 'B'}\", 'DH{}', 'loading: False']], PKS Product: CC=CC(=O)[S]\n",
      "Node ID: 573, Depth: 1, PKS Design: [[\"AT{'substrate': 'cemal'}\", 'loading: True'], [\"AT{'substrate': 'Malonyl-CoA'}\", \"KR{'type': 'B'}\", 'DH{}', 'loading: False']], PKS Product: CC=CC(=O)[S]\n",
      "Node ID: 575, Depth: 1, PKS Design: [[\"AT{'substrate': 'Acetyl-CoA'}\", 'loading: True'], [\"AT{'substrate': 'Malonyl-CoA'}\", \"KR{'type': 'B'}\", 'DH{}', 'loading: False']], PKS Product: CC=CC(=O)[S]\n"
     ]
    }
   ],
   "execution_count": 6
  },
  {
   "metadata": {
    "ExecuteTime": {
     "end_time": "2025-03-11T18:03:03.117499Z",
     "start_time": "2025-03-11T18:03:03.110075Z"
    }
   },
   "cell_type": "code",
   "source": "set(mcts.successful_nodes)",
   "id": "57da2d67cab0c4ea",
   "outputs": [
    {
     "data": {
      "text/plain": [
       "set()"
      ]
     },
     "execution_count": 7,
     "metadata": {},
     "output_type": "execute_result"
    }
   ],
   "execution_count": 7
  },
  {
   "metadata": {
    "ExecuteTime": {
     "end_time": "2025-03-11T18:03:04.141949Z",
     "start_time": "2025-03-11T18:03:04.135591Z"
    }
   },
   "cell_type": "code",
   "source": "mcts.bag_of_graphs",
   "id": "d17701f505f9a58f",
   "outputs": [
    {
     "data": {
      "text/plain": [
       "[<rdkit.Chem.rdchem.Mol at 0x133de0b30>,\n",
       " <rdkit.Chem.rdchem.Mol at 0x133de0ac0>,\n",
       " <rdkit.Chem.rdchem.Mol at 0x133de0f20>,\n",
       " <rdkit.Chem.rdchem.Mol at 0x133de0ba0>,\n",
       " <rdkit.Chem.rdchem.Mol at 0x133de0c10>,\n",
       " <rdkit.Chem.rdchem.Mol at 0x133de04a0>,\n",
       " <rdkit.Chem.rdchem.Mol at 0x133de0dd0>,\n",
       " <rdkit.Chem.rdchem.Mol at 0x133de0d60>,\n",
       " <rdkit.Chem.rdchem.Mol at 0x133de0cf0>,\n",
       " <rdkit.Chem.rdchem.Mol at 0x133de05f0>,\n",
       " <rdkit.Chem.rdchem.Mol at 0x133de0f90>,\n",
       " <rdkit.Chem.rdchem.Mol at 0x133de1230>,\n",
       " <rdkit.Chem.rdchem.Mol at 0x133de0510>,\n",
       " <rdkit.Chem.rdchem.Mol at 0x133de0580>,\n",
       " <rdkit.Chem.rdchem.Mol at 0x133de0430>,\n",
       " <rdkit.Chem.rdchem.Mol at 0x133de11c0>,\n",
       " <rdkit.Chem.rdchem.Mol at 0x133de1150>,\n",
       " <rdkit.Chem.rdchem.Mol at 0x133de10e0>,\n",
       " <rdkit.Chem.rdchem.Mol at 0x133de12a0>,\n",
       " <rdkit.Chem.rdchem.Mol at 0x133de0c80>,\n",
       " <rdkit.Chem.rdchem.Mol at 0x133de1000>,\n",
       " <rdkit.Chem.rdchem.Mol at 0x133de1310>,\n",
       " <rdkit.Chem.rdchem.Mol at 0x133de1380>,\n",
       " <rdkit.Chem.rdchem.Mol at 0x133de13f0>,\n",
       " <rdkit.Chem.rdchem.Mol at 0x133de1460>,\n",
       " <rdkit.Chem.rdchem.Mol at 0x133de14d0>,\n",
       " <rdkit.Chem.rdchem.Mol at 0x133de1540>,\n",
       " <rdkit.Chem.rdchem.Mol at 0x133de1690>,\n",
       " <rdkit.Chem.rdchem.Mol at 0x133de1070>,\n",
       " <rdkit.Chem.rdchem.Mol at 0x133de1620>,\n",
       " <rdkit.Chem.rdchem.Mol at 0x133de1700>,\n",
       " <rdkit.Chem.rdchem.Mol at 0x133de1770>,\n",
       " <rdkit.Chem.rdchem.Mol at 0x133de17e0>,\n",
       " <rdkit.Chem.rdchem.Mol at 0x133de1850>,\n",
       " <rdkit.Chem.rdchem.Mol at 0x133de18c0>,\n",
       " <rdkit.Chem.rdchem.Mol at 0x133de1930>]"
      ]
     },
     "execution_count": 8,
     "metadata": {},
     "output_type": "execute_result"
    }
   ],
   "execution_count": 8
  },
  {
   "metadata": {
    "ExecuteTime": {
     "end_time": "2025-03-11T18:03:05.347556Z",
     "start_time": "2025-03-11T18:03:05.339699Z"
    }
   },
   "cell_type": "code",
   "source": [
    "mcts.is_PKS_product_in_bag_of_graphs(PKS_product = Chem.MolFromSmiles(\"CC=CC(O)=O\"),\n",
    "                                     consider_stereo = False)"
   ],
   "id": "3ab9552c879a52ed",
   "outputs": [
    {
     "data": {
      "text/plain": [
       "True"
      ]
     },
     "execution_count": 9,
     "metadata": {},
     "output_type": "execute_result"
    }
   ],
   "execution_count": 9
  },
  {
   "metadata": {
    "ExecuteTime": {
     "end_time": "2025-03-11T17:52:16.013501Z",
     "start_time": "2025-03-11T17:52:15.929989Z"
    }
   },
   "cell_type": "code",
   "source": "mcts.bag_of_graphs[36]",
   "id": "57f814750287ac7",
   "outputs": [
    {
     "ename": "IndexError",
     "evalue": "list index out of range",
     "output_type": "error",
     "traceback": [
      "\u001B[0;31m---------------------------------------------------------------------------\u001B[0m",
      "\u001B[0;31mIndexError\u001B[0m                                Traceback (most recent call last)",
      "Cell \u001B[0;32mIn[53], line 1\u001B[0m\n\u001B[0;32m----> 1\u001B[0m \u001B[43mmcts\u001B[49m\u001B[38;5;241;43m.\u001B[39;49m\u001B[43mbag_of_graphs\u001B[49m\u001B[43m[\u001B[49m\u001B[38;5;241;43m36\u001B[39;49m\u001B[43m]\u001B[49m\n",
      "\u001B[0;31mIndexError\u001B[0m: list index out of range"
     ]
    }
   ],
   "execution_count": 53
  },
  {
   "metadata": {
    "ExecuteTime": {
     "end_time": "2025-03-11T17:54:04.480285Z",
     "start_time": "2025-03-11T17:54:04.467905Z"
    }
   },
   "cell_type": "code",
   "source": [
    "for node in mcts.nodes:\n",
    "    if node.node_id == 2865:\n",
    "        query_node = node"
   ],
   "id": "7a6a62f946f3ef78",
   "outputs": [],
   "execution_count": 54
  },
  {
   "metadata": {
    "ExecuteTime": {
     "end_time": "2025-03-11T17:54:13.117427Z",
     "start_time": "2025-03-11T17:54:13.110810Z"
    }
   },
   "cell_type": "code",
   "source": "query_node",
   "id": "263cc342ba94574a",
   "outputs": [
    {
     "data": {
      "text/plain": [
       "Node ID: 2865, Depth: 1, PKS Design: [[\"AT{'substrate': 'Methylmalonyl-CoA'}\", 'loading: True'], [\"AT{'substrate': 'Malonyl-CoA'}\", \"KR{'type': 'B'}\", 'DH{}', 'loading: False']], PKS Product: CCC=CC(=O)[S]"
      ]
     },
     "execution_count": 55,
     "metadata": {},
     "output_type": "execute_result"
    }
   ],
   "execution_count": 55
  },
  {
   "metadata": {
    "ExecuteTime": {
     "end_time": "2025-03-11T17:54:20.285592Z",
     "start_time": "2025-03-11T17:54:20.278739Z"
    }
   },
   "cell_type": "code",
   "source": "mcts.calculate_subgraph_value(query_node)",
   "id": "eaefe1b9be2cdf07",
   "outputs": [
    {
     "data": {
      "text/plain": [
       "1"
      ]
     },
     "execution_count": 56,
     "metadata": {},
     "output_type": "execute_result"
    }
   ],
   "execution_count": 56
  },
  {
   "metadata": {},
   "cell_type": "code",
   "outputs": [],
   "execution_count": null,
   "source": "",
   "id": "28edc2d50be79af5"
  }
 ],
 "metadata": {
  "kernelspec": {
   "display_name": "MCTS_py310_env",
   "language": "python",
   "name": "mcts_py310_env"
  },
  "language_info": {
   "codemirror_mode": {
    "name": "ipython",
    "version": 2
   },
   "file_extension": ".py",
   "mimetype": "text/x-python",
   "name": "python",
   "nbconvert_exporter": "python",
   "pygments_lexer": "ipython2",
   "version": "2.7.6"
  }
 },
 "nbformat": 4,
 "nbformat_minor": 5
}
